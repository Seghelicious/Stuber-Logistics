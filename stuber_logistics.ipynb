{
  "nbformat": 4,
  "nbformat_minor": 0,
  "metadata": {
    "colab": {
      "name": "stuber_logistics.ipynb",
      "provenance": [],
      "collapsed_sections": [],
      "authorship_tag": "ABX9TyNAi/qg7pmz+AeffXzu2Zoc",
      "include_colab_link": true
    },
    "kernelspec": {
      "name": "python3",
      "display_name": "Python 3"
    },
    "language_info": {
      "name": "python"
    }
  },
  "cells": [
    {
      "cell_type": "markdown",
      "metadata": {
        "id": "view-in-github",
        "colab_type": "text"
      },
      "source": [
        "<a href=\"https://colab.research.google.com/github/Seghelicious/Stuber-Logistics/blob/main/stuber_logistics.ipynb\" target=\"_parent\"><img src=\"https://colab.research.google.com/assets/colab-badge.svg\" alt=\"Open In Colab\"/></a>"
      ]
    },
    {
      "cell_type": "code",
      "metadata": {
        "colab": {
          "base_uri": "https://localhost:8080/"
        },
        "id": "50M2Kzrw_CIz",
        "outputId": "fc23aca5-c57e-4fec-9828-fde7654bfb3e"
      },
      "source": [
        "from google.colab import drive\n",
        "drive.mount('/content/drive')"
      ],
      "execution_count": 1,
      "outputs": [
        {
          "output_type": "stream",
          "text": [
            "Mounted at /content/drive\n"
          ],
          "name": "stdout"
        }
      ]
    },
    {
      "cell_type": "code",
      "metadata": {
        "id": "zM3ltOIrKyKl"
      },
      "source": [
        "# Data Manipulation libraries\n",
        "import pandas as pd\n",
        "import numpy as np\n",
        "from datetime import datetime, timedelta, date, time\n",
        "\n",
        "# Visualisation libraries\n",
        "import seaborn as sns\n",
        "import matplotlib\n",
        "import matplotlib.pyplot as plt\n",
        "%matplotlib inline\n",
        "from matplotlib import pyplot\n",
        "from matplotlib import style\n",
        "plt.style.use('ggplot')\n",
        "import itertools\n",
        "import warnings\n",
        "warnings.filterwarnings('ignore')\n",
        "\n",
        "# Preprocessing libraries\n",
        "from sklearn import preprocessing\n",
        "from sklearn.preprocessing import StandardScaler\n",
        "\n",
        "# Model Development libraries\n",
        "from sklearn.pipeline import Pipeline\n",
        "from sklearn.model_selection import KFold, cross_val_score, train_test_split \n",
        "from sklearn.model_selection import GridSearchCV\n",
        "from sklearn.ensemble import RandomForestRegressor\n",
        "from sklearn.ensemble import GradientBoostingRegressor\n",
        "\n",
        "# Model Evaluation libraries\n",
        "from sklearn.metrics import mean_squared_error\n",
        "\n",
        "pd.options.display.float_format = '{:.2f}'.format\n",
        "pd.options.display.max_columns = None\n",
        "pd.options.display.max_rows = None"
      ],
      "execution_count": 2,
      "outputs": []
    },
    {
      "cell_type": "code",
      "metadata": {
        "colab": {
          "base_uri": "https://localhost:8080/",
          "height": 224
        },
        "id": "c-_ohXlQLM0L",
        "outputId": "86047121-5622-4e15-888f-e75854e51925"
      },
      "source": [
        "train = pd.read_csv('/content/drive/MyDrive/Data and Decisioning Job Take Home Challenge/Train.csv')\n",
        "test = pd.read_csv('/content/drive/MyDrive/Data and Decisioning Job Take Home Challenge/test.csv')\n",
        "train.head()"
      ],
      "execution_count": 3,
      "outputs": [
        {
          "output_type": "execute_result",
          "data": {
            "text/html": [
              "<div>\n",
              "<style scoped>\n",
              "    .dataframe tbody tr th:only-of-type {\n",
              "        vertical-align: middle;\n",
              "    }\n",
              "\n",
              "    .dataframe tbody tr th {\n",
              "        vertical-align: top;\n",
              "    }\n",
              "\n",
              "    .dataframe thead th {\n",
              "        text-align: right;\n",
              "    }\n",
              "</style>\n",
              "<table border=\"1\" class=\"dataframe\">\n",
              "  <thead>\n",
              "    <tr style=\"text-align: right;\">\n",
              "      <th></th>\n",
              "      <th>User_ID</th>\n",
              "      <th>Tranport_Vehicle</th>\n",
              "      <th>Platform</th>\n",
              "      <th>Purpose</th>\n",
              "      <th>Order_Day_of_Month</th>\n",
              "      <th>Order_Week_of_Month</th>\n",
              "      <th>Time_of_Order</th>\n",
              "      <th>Order_Confirm_Day_of_Month</th>\n",
              "      <th>Order_Confirm_Day_of_Weekday</th>\n",
              "      <th>Time_of_Confirmation</th>\n",
              "      <th>Arrival_At_Pickup_MonthDay</th>\n",
              "      <th>Arrival_At_Pickup_Weekday</th>\n",
              "      <th>Arrival_at_Pickup_Time</th>\n",
              "      <th>Pickup_MonthDay</th>\n",
              "      <th>Pickup_WeekDay</th>\n",
              "      <th>Pickup_Time</th>\n",
              "      <th>Delivery_MonthDay</th>\n",
              "      <th>Delivery_Weekday</th>\n",
              "      <th>Delivery_Time</th>\n",
              "      <th>DistanceCovered_KM</th>\n",
              "      <th>Temperation</th>\n",
              "      <th>Precipitation_in_millimeters</th>\n",
              "      <th>Latitude_Pickup</th>\n",
              "      <th>Longitude_Pickup</th>\n",
              "      <th>Latitude_Destination</th>\n",
              "      <th>Longitude_Destination</th>\n",
              "      <th>Time_Elapsed_from_Pickup_to_Delivery_in_Min</th>\n",
              "    </tr>\n",
              "  </thead>\n",
              "  <tbody>\n",
              "    <tr>\n",
              "      <th>0</th>\n",
              "      <td>UserLogger_7277</td>\n",
              "      <td>Motorcycle</td>\n",
              "      <td>P3</td>\n",
              "      <td>Commercial</td>\n",
              "      <td>27</td>\n",
              "      <td>1</td>\n",
              "      <td>9:18:22 AM</td>\n",
              "      <td>27</td>\n",
              "      <td>1</td>\n",
              "      <td>9:18:42 AM</td>\n",
              "      <td>27</td>\n",
              "      <td>1</td>\n",
              "      <td>9:46:23 AM</td>\n",
              "      <td>27</td>\n",
              "      <td>1</td>\n",
              "      <td>9:48:02 AM</td>\n",
              "      <td>27</td>\n",
              "      <td>1</td>\n",
              "      <td>10:11:30 AM</td>\n",
              "      <td>6</td>\n",
              "      <td>20.90</td>\n",
              "      <td>1.00</td>\n",
              "      <td>-1.29</td>\n",
              "      <td>36.81</td>\n",
              "      <td>-1.30</td>\n",
              "      <td>36.77</td>\n",
              "      <td>23.47</td>\n",
              "    </tr>\n",
              "    <tr>\n",
              "      <th>1</th>\n",
              "      <td>UserLogger_1281</td>\n",
              "      <td>Motorcycle</td>\n",
              "      <td>P3</td>\n",
              "      <td>Commercial</td>\n",
              "      <td>25</td>\n",
              "      <td>1</td>\n",
              "      <td>12:07:04 PM</td>\n",
              "      <td>25</td>\n",
              "      <td>1</td>\n",
              "      <td>12:08:36 PM</td>\n",
              "      <td>25</td>\n",
              "      <td>1</td>\n",
              "      <td>12:41:16 PM</td>\n",
              "      <td>25</td>\n",
              "      <td>1</td>\n",
              "      <td>12:45:15 PM</td>\n",
              "      <td>25</td>\n",
              "      <td>1</td>\n",
              "      <td>1:02:09 PM</td>\n",
              "      <td>9</td>\n",
              "      <td>29.90</td>\n",
              "      <td>nan</td>\n",
              "      <td>-1.23</td>\n",
              "      <td>36.84</td>\n",
              "      <td>-1.25</td>\n",
              "      <td>36.87</td>\n",
              "      <td>16.90</td>\n",
              "    </tr>\n",
              "    <tr>\n",
              "      <th>2</th>\n",
              "      <td>UserLogger_2566</td>\n",
              "      <td>Motorcycle</td>\n",
              "      <td>P3</td>\n",
              "      <td>Commercial</td>\n",
              "      <td>12</td>\n",
              "      <td>6</td>\n",
              "      <td>1:20:11 PM</td>\n",
              "      <td>12</td>\n",
              "      <td>6</td>\n",
              "      <td>1:34:44 PM</td>\n",
              "      <td>12</td>\n",
              "      <td>6</td>\n",
              "      <td>1:54:51 PM</td>\n",
              "      <td>12</td>\n",
              "      <td>6</td>\n",
              "      <td>1:58:20 PM</td>\n",
              "      <td>12</td>\n",
              "      <td>6</td>\n",
              "      <td>2:20:10 PM</td>\n",
              "      <td>9</td>\n",
              "      <td>28.50</td>\n",
              "      <td>nan</td>\n",
              "      <td>-1.32</td>\n",
              "      <td>36.85</td>\n",
              "      <td>-1.27</td>\n",
              "      <td>36.82</td>\n",
              "      <td>21.83</td>\n",
              "    </tr>\n",
              "    <tr>\n",
              "      <th>3</th>\n",
              "      <td>UserLogger_11805</td>\n",
              "      <td>Motorcycle</td>\n",
              "      <td>P3</td>\n",
              "      <td>Commercial</td>\n",
              "      <td>28</td>\n",
              "      <td>4</td>\n",
              "      <td>11:13:53 AM</td>\n",
              "      <td>28</td>\n",
              "      <td>4</td>\n",
              "      <td>11:14:07 AM</td>\n",
              "      <td>28</td>\n",
              "      <td>4</td>\n",
              "      <td>11:25:32 AM</td>\n",
              "      <td>28</td>\n",
              "      <td>4</td>\n",
              "      <td>11:53:20 AM</td>\n",
              "      <td>28</td>\n",
              "      <td>4</td>\n",
              "      <td>11:53:23 AM</td>\n",
              "      <td>9</td>\n",
              "      <td>26.80</td>\n",
              "      <td>nan</td>\n",
              "      <td>-1.26</td>\n",
              "      <td>36.79</td>\n",
              "      <td>-1.30</td>\n",
              "      <td>36.83</td>\n",
              "      <td>0.05</td>\n",
              "    </tr>\n",
              "    <tr>\n",
              "      <th>4</th>\n",
              "      <td>UserLogger_15199</td>\n",
              "      <td>Motorcycle</td>\n",
              "      <td>P3</td>\n",
              "      <td>Commercial</td>\n",
              "      <td>12</td>\n",
              "      <td>2</td>\n",
              "      <td>1:41:02 PM</td>\n",
              "      <td>12</td>\n",
              "      <td>2</td>\n",
              "      <td>1:41:57 PM</td>\n",
              "      <td>12</td>\n",
              "      <td>2</td>\n",
              "      <td>2:40:49 PM</td>\n",
              "      <td>12</td>\n",
              "      <td>2</td>\n",
              "      <td>2:45:15 PM</td>\n",
              "      <td>12</td>\n",
              "      <td>2</td>\n",
              "      <td>3:12:49 PM</td>\n",
              "      <td>7</td>\n",
              "      <td>30.10</td>\n",
              "      <td>nan</td>\n",
              "      <td>-1.26</td>\n",
              "      <td>36.78</td>\n",
              "      <td>-1.29</td>\n",
              "      <td>36.79</td>\n",
              "      <td>27.57</td>\n",
              "    </tr>\n",
              "  </tbody>\n",
              "</table>\n",
              "</div>"
            ],
            "text/plain": [
              "            User_ID Tranport_Vehicle Platform     Purpose  Order_Day_of_Month  \\\n",
              "0   UserLogger_7277       Motorcycle       P3  Commercial                  27   \n",
              "1   UserLogger_1281       Motorcycle       P3  Commercial                  25   \n",
              "2   UserLogger_2566       Motorcycle       P3  Commercial                  12   \n",
              "3  UserLogger_11805       Motorcycle       P3  Commercial                  28   \n",
              "4  UserLogger_15199       Motorcycle       P3  Commercial                  12   \n",
              "\n",
              "   Order_Week_of_Month Time_of_Order  Order_Confirm_Day_of_Month  \\\n",
              "0                    1    9:18:22 AM                          27   \n",
              "1                    1   12:07:04 PM                          25   \n",
              "2                    6    1:20:11 PM                          12   \n",
              "3                    4   11:13:53 AM                          28   \n",
              "4                    2    1:41:02 PM                          12   \n",
              "\n",
              "   Order_Confirm_Day_of_Weekday Time_of_Confirmation  \\\n",
              "0                             1           9:18:42 AM   \n",
              "1                             1          12:08:36 PM   \n",
              "2                             6           1:34:44 PM   \n",
              "3                             4          11:14:07 AM   \n",
              "4                             2           1:41:57 PM   \n",
              "\n",
              "   Arrival_At_Pickup_MonthDay  Arrival_At_Pickup_Weekday  \\\n",
              "0                          27                          1   \n",
              "1                          25                          1   \n",
              "2                          12                          6   \n",
              "3                          28                          4   \n",
              "4                          12                          2   \n",
              "\n",
              "  Arrival_at_Pickup_Time  Pickup_MonthDay  Pickup_WeekDay  Pickup_Time  \\\n",
              "0             9:46:23 AM               27               1   9:48:02 AM   \n",
              "1            12:41:16 PM               25               1  12:45:15 PM   \n",
              "2             1:54:51 PM               12               6   1:58:20 PM   \n",
              "3            11:25:32 AM               28               4  11:53:20 AM   \n",
              "4             2:40:49 PM               12               2   2:45:15 PM   \n",
              "\n",
              "   Delivery_MonthDay  Delivery_Weekday Delivery_Time  DistanceCovered_KM  \\\n",
              "0                 27                 1   10:11:30 AM                   6   \n",
              "1                 25                 1    1:02:09 PM                   9   \n",
              "2                 12                 6    2:20:10 PM                   9   \n",
              "3                 28                 4   11:53:23 AM                   9   \n",
              "4                 12                 2    3:12:49 PM                   7   \n",
              "\n",
              "   Temperation  Precipitation_in_millimeters  Latitude_Pickup  \\\n",
              "0        20.90                          1.00            -1.29   \n",
              "1        29.90                           nan            -1.23   \n",
              "2        28.50                           nan            -1.32   \n",
              "3        26.80                           nan            -1.26   \n",
              "4        30.10                           nan            -1.26   \n",
              "\n",
              "   Longitude_Pickup  Latitude_Destination  Longitude_Destination  \\\n",
              "0             36.81                 -1.30                  36.77   \n",
              "1             36.84                 -1.25                  36.87   \n",
              "2             36.85                 -1.27                  36.82   \n",
              "3             36.79                 -1.30                  36.83   \n",
              "4             36.78                 -1.29                  36.79   \n",
              "\n",
              "   Time_Elapsed_from_Pickup_to_Delivery_in_Min  \n",
              "0                                        23.47  \n",
              "1                                        16.90  \n",
              "2                                        21.83  \n",
              "3                                         0.05  \n",
              "4                                        27.57  "
            ]
          },
          "metadata": {
            "tags": []
          },
          "execution_count": 3
        }
      ]
    },
    {
      "cell_type": "code",
      "metadata": {
        "colab": {
          "base_uri": "https://localhost:8080/",
          "height": 224
        },
        "id": "xwLtt9qDMALb",
        "outputId": "b9de5adf-ff40-410b-d059-6f2e556e3085"
      },
      "source": [
        "test.head()"
      ],
      "execution_count": 4,
      "outputs": [
        {
          "output_type": "execute_result",
          "data": {
            "text/html": [
              "<div>\n",
              "<style scoped>\n",
              "    .dataframe tbody tr th:only-of-type {\n",
              "        vertical-align: middle;\n",
              "    }\n",
              "\n",
              "    .dataframe tbody tr th {\n",
              "        vertical-align: top;\n",
              "    }\n",
              "\n",
              "    .dataframe thead th {\n",
              "        text-align: right;\n",
              "    }\n",
              "</style>\n",
              "<table border=\"1\" class=\"dataframe\">\n",
              "  <thead>\n",
              "    <tr style=\"text-align: right;\">\n",
              "      <th></th>\n",
              "      <th>User_ID</th>\n",
              "      <th>Tranport_Vehicle</th>\n",
              "      <th>Platform</th>\n",
              "      <th>Purpose</th>\n",
              "      <th>Order_Day_of_Month</th>\n",
              "      <th>Order_Week_of_Month</th>\n",
              "      <th>Time_of_Order</th>\n",
              "      <th>Order_Confirm_Day_of_Month</th>\n",
              "      <th>Order_Confirm_Day_of_Weekday</th>\n",
              "      <th>Time_of_Confirmation</th>\n",
              "      <th>Arrival_At_Pickup_MonthDay</th>\n",
              "      <th>Arrival_At_Pickup_Weekday</th>\n",
              "      <th>Arrival_at_Pickup_Time</th>\n",
              "      <th>Pickup_MonthDay</th>\n",
              "      <th>Pickup_WeekDay</th>\n",
              "      <th>Pickup_Time</th>\n",
              "      <th>Delivery_MonthDay</th>\n",
              "      <th>Delivery_Weekday</th>\n",
              "      <th>Delivery_Time</th>\n",
              "      <th>DistanceCovered_KM</th>\n",
              "      <th>Temperation</th>\n",
              "      <th>Precipitation_in_millimeters</th>\n",
              "      <th>Latitude_Pickup</th>\n",
              "      <th>Longitude_Pickup</th>\n",
              "      <th>Latitude_Destination</th>\n",
              "      <th>Longitude_Destination</th>\n",
              "    </tr>\n",
              "  </thead>\n",
              "  <tbody>\n",
              "    <tr>\n",
              "      <th>0</th>\n",
              "      <td>UserLogger_6224</td>\n",
              "      <td>Motorcycle</td>\n",
              "      <td>P3</td>\n",
              "      <td>Commercial</td>\n",
              "      <td>4</td>\n",
              "      <td>1</td>\n",
              "      <td>3:08:18 PM</td>\n",
              "      <td>4</td>\n",
              "      <td>1</td>\n",
              "      <td>3:10:19 PM</td>\n",
              "      <td>4</td>\n",
              "      <td>1</td>\n",
              "      <td>3:22:48 PM</td>\n",
              "      <td>4</td>\n",
              "      <td>1</td>\n",
              "      <td>3:26:38 PM</td>\n",
              "      <td>4</td>\n",
              "      <td>1</td>\n",
              "      <td>4:01:26 PM</td>\n",
              "      <td>13</td>\n",
              "      <td>nan</td>\n",
              "      <td>nan</td>\n",
              "      <td>-1.26</td>\n",
              "      <td>36.78</td>\n",
              "      <td>-1.32</td>\n",
              "      <td>36.83</td>\n",
              "    </tr>\n",
              "    <tr>\n",
              "      <th>1</th>\n",
              "      <td>UserLogger_16205</td>\n",
              "      <td>Motorcycle</td>\n",
              "      <td>P1</td>\n",
              "      <td>Personal</td>\n",
              "      <td>13</td>\n",
              "      <td>5</td>\n",
              "      <td>3:34:11 PM</td>\n",
              "      <td>13</td>\n",
              "      <td>5</td>\n",
              "      <td>3:35:44 PM</td>\n",
              "      <td>13</td>\n",
              "      <td>5</td>\n",
              "      <td>3:47:03 PM</td>\n",
              "      <td>13</td>\n",
              "      <td>5</td>\n",
              "      <td>3:52:54 PM</td>\n",
              "      <td>13</td>\n",
              "      <td>5</td>\n",
              "      <td>4:21:44 PM</td>\n",
              "      <td>13</td>\n",
              "      <td>22.10</td>\n",
              "      <td>nan</td>\n",
              "      <td>-1.24</td>\n",
              "      <td>36.77</td>\n",
              "      <td>-1.29</td>\n",
              "      <td>36.76</td>\n",
              "    </tr>\n",
              "    <tr>\n",
              "      <th>2</th>\n",
              "      <td>UserLogger_17099</td>\n",
              "      <td>Motorcycle</td>\n",
              "      <td>P3</td>\n",
              "      <td>Commercial</td>\n",
              "      <td>11</td>\n",
              "      <td>1</td>\n",
              "      <td>10:18:09 AM</td>\n",
              "      <td>11</td>\n",
              "      <td>1</td>\n",
              "      <td>10:18:18 AM</td>\n",
              "      <td>11</td>\n",
              "      <td>1</td>\n",
              "      <td>10:18:23 AM</td>\n",
              "      <td>11</td>\n",
              "      <td>1</td>\n",
              "      <td>10:54:39 AM</td>\n",
              "      <td>11</td>\n",
              "      <td>1</td>\n",
              "      <td>10:55:02 AM</td>\n",
              "      <td>11</td>\n",
              "      <td>29.60</td>\n",
              "      <td>nan</td>\n",
              "      <td>-1.32</td>\n",
              "      <td>36.83</td>\n",
              "      <td>-1.26</td>\n",
              "      <td>36.79</td>\n",
              "    </tr>\n",
              "    <tr>\n",
              "      <th>3</th>\n",
              "      <td>UserLogger_9892</td>\n",
              "      <td>Motorcycle</td>\n",
              "      <td>P3</td>\n",
              "      <td>Commercial</td>\n",
              "      <td>5</td>\n",
              "      <td>2</td>\n",
              "      <td>4:45:37 PM</td>\n",
              "      <td>5</td>\n",
              "      <td>2</td>\n",
              "      <td>4:48:44 PM</td>\n",
              "      <td>5</td>\n",
              "      <td>2</td>\n",
              "      <td>5:07:38 PM</td>\n",
              "      <td>5</td>\n",
              "      <td>2</td>\n",
              "      <td>5:16:02 PM</td>\n",
              "      <td>5</td>\n",
              "      <td>2</td>\n",
              "      <td>6:12:00 PM</td>\n",
              "      <td>21</td>\n",
              "      <td>28.20</td>\n",
              "      <td>nan</td>\n",
              "      <td>-1.29</td>\n",
              "      <td>36.90</td>\n",
              "      <td>-1.30</td>\n",
              "      <td>36.76</td>\n",
              "    </tr>\n",
              "    <tr>\n",
              "      <th>4</th>\n",
              "      <td>UserLogger_8487</td>\n",
              "      <td>Motorcycle</td>\n",
              "      <td>P3</td>\n",
              "      <td>Commercial</td>\n",
              "      <td>11</td>\n",
              "      <td>5</td>\n",
              "      <td>3:56:56 PM</td>\n",
              "      <td>11</td>\n",
              "      <td>5</td>\n",
              "      <td>3:57:09 PM</td>\n",
              "      <td>11</td>\n",
              "      <td>5</td>\n",
              "      <td>3:57:14 PM</td>\n",
              "      <td>11</td>\n",
              "      <td>5</td>\n",
              "      <td>4:11:56 PM</td>\n",
              "      <td>11</td>\n",
              "      <td>5</td>\n",
              "      <td>4:27:57 PM</td>\n",
              "      <td>11</td>\n",
              "      <td>25.40</td>\n",
              "      <td>nan</td>\n",
              "      <td>-1.33</td>\n",
              "      <td>36.85</td>\n",
              "      <td>-1.29</td>\n",
              "      <td>36.90</td>\n",
              "    </tr>\n",
              "  </tbody>\n",
              "</table>\n",
              "</div>"
            ],
            "text/plain": [
              "            User_ID Tranport_Vehicle Platform     Purpose  Order_Day_of_Month  \\\n",
              "0   UserLogger_6224       Motorcycle       P3  Commercial                   4   \n",
              "1  UserLogger_16205       Motorcycle       P1    Personal                  13   \n",
              "2  UserLogger_17099       Motorcycle       P3  Commercial                  11   \n",
              "3   UserLogger_9892       Motorcycle       P3  Commercial                   5   \n",
              "4   UserLogger_8487       Motorcycle       P3  Commercial                  11   \n",
              "\n",
              "   Order_Week_of_Month Time_of_Order  Order_Confirm_Day_of_Month  \\\n",
              "0                    1    3:08:18 PM                           4   \n",
              "1                    5    3:34:11 PM                          13   \n",
              "2                    1   10:18:09 AM                          11   \n",
              "3                    2    4:45:37 PM                           5   \n",
              "4                    5    3:56:56 PM                          11   \n",
              "\n",
              "   Order_Confirm_Day_of_Weekday Time_of_Confirmation  \\\n",
              "0                             1           3:10:19 PM   \n",
              "1                             5           3:35:44 PM   \n",
              "2                             1          10:18:18 AM   \n",
              "3                             2           4:48:44 PM   \n",
              "4                             5           3:57:09 PM   \n",
              "\n",
              "   Arrival_At_Pickup_MonthDay  Arrival_At_Pickup_Weekday  \\\n",
              "0                           4                          1   \n",
              "1                          13                          5   \n",
              "2                          11                          1   \n",
              "3                           5                          2   \n",
              "4                          11                          5   \n",
              "\n",
              "  Arrival_at_Pickup_Time  Pickup_MonthDay  Pickup_WeekDay  Pickup_Time  \\\n",
              "0             3:22:48 PM                4               1   3:26:38 PM   \n",
              "1             3:47:03 PM               13               5   3:52:54 PM   \n",
              "2            10:18:23 AM               11               1  10:54:39 AM   \n",
              "3             5:07:38 PM                5               2   5:16:02 PM   \n",
              "4             3:57:14 PM               11               5   4:11:56 PM   \n",
              "\n",
              "   Delivery_MonthDay  Delivery_Weekday Delivery_Time  DistanceCovered_KM  \\\n",
              "0                  4                 1    4:01:26 PM                  13   \n",
              "1                 13                 5    4:21:44 PM                  13   \n",
              "2                 11                 1   10:55:02 AM                  11   \n",
              "3                  5                 2    6:12:00 PM                  21   \n",
              "4                 11                 5    4:27:57 PM                  11   \n",
              "\n",
              "   Temperation  Precipitation_in_millimeters  Latitude_Pickup  \\\n",
              "0          nan                           nan            -1.26   \n",
              "1        22.10                           nan            -1.24   \n",
              "2        29.60                           nan            -1.32   \n",
              "3        28.20                           nan            -1.29   \n",
              "4        25.40                           nan            -1.33   \n",
              "\n",
              "   Longitude_Pickup  Latitude_Destination  Longitude_Destination  \n",
              "0             36.78                 -1.32                  36.83  \n",
              "1             36.77                 -1.29                  36.76  \n",
              "2             36.83                 -1.26                  36.79  \n",
              "3             36.90                 -1.30                  36.76  \n",
              "4             36.85                 -1.29                  36.90  "
            ]
          },
          "metadata": {
            "tags": []
          },
          "execution_count": 4
        }
      ]
    },
    {
      "cell_type": "code",
      "metadata": {
        "colab": {
          "base_uri": "https://localhost:8080/"
        },
        "id": "O7aq8eWVMfRa",
        "outputId": "53dee402-e02b-42a8-8c1f-f309d99a6186"
      },
      "source": [
        "train.info()"
      ],
      "execution_count": 5,
      "outputs": [
        {
          "output_type": "stream",
          "text": [
            "<class 'pandas.core.frame.DataFrame'>\n",
            "RangeIndex: 14840 entries, 0 to 14839\n",
            "Data columns (total 27 columns):\n",
            " #   Column                                       Non-Null Count  Dtype  \n",
            "---  ------                                       --------------  -----  \n",
            " 0   User_ID                                      14840 non-null  object \n",
            " 1   Tranport_Vehicle                             14840 non-null  object \n",
            " 2   Platform                                     14840 non-null  object \n",
            " 3   Purpose                                      14840 non-null  object \n",
            " 4   Order_Day_of_Month                           14840 non-null  int64  \n",
            " 5   Order_Week_of_Month                          14840 non-null  int64  \n",
            " 6   Time_of_Order                                14840 non-null  object \n",
            " 7   Order_Confirm_Day_of_Month                   14840 non-null  int64  \n",
            " 8   Order_Confirm_Day_of_Weekday                 14840 non-null  int64  \n",
            " 9   Time_of_Confirmation                         14840 non-null  object \n",
            " 10  Arrival_At_Pickup_MonthDay                   14840 non-null  int64  \n",
            " 11  Arrival_At_Pickup_Weekday                    14840 non-null  int64  \n",
            " 12  Arrival_at_Pickup_Time                       14840 non-null  object \n",
            " 13  Pickup_MonthDay                              14840 non-null  int64  \n",
            " 14  Pickup_WeekDay                               14840 non-null  int64  \n",
            " 15  Pickup_Time                                  14840 non-null  object \n",
            " 16  Delivery_MonthDay                            14840 non-null  int64  \n",
            " 17  Delivery_Weekday                             14840 non-null  int64  \n",
            " 18  Delivery_Time                                14840 non-null  object \n",
            " 19  DistanceCovered_KM                           14840 non-null  int64  \n",
            " 20  Temperation                                  11768 non-null  float64\n",
            " 21  Precipitation_in_millimeters                 392 non-null    float64\n",
            " 22  Latitude_Pickup                              14840 non-null  float64\n",
            " 23  Longitude_Pickup                             14840 non-null  float64\n",
            " 24  Latitude_Destination                         14840 non-null  float64\n",
            " 25  Longitude_Destination                        14840 non-null  float64\n",
            " 26  Time_Elapsed_from_Pickup_to_Delivery_in_Min  14840 non-null  float64\n",
            "dtypes: float64(7), int64(11), object(9)\n",
            "memory usage: 3.1+ MB\n"
          ],
          "name": "stdout"
        }
      ]
    },
    {
      "cell_type": "markdown",
      "metadata": {
        "id": "jqFbqsQMU6ey"
      },
      "source": [
        "Only the Precipitation and Temperation columns have missing values in both the train and test datasets"
      ]
    },
    {
      "cell_type": "code",
      "metadata": {
        "colab": {
          "base_uri": "https://localhost:8080/"
        },
        "id": "cRPJf8lDMNJU",
        "outputId": "81bf9a73-cd26-4421-f053-4dd5eef5619a"
      },
      "source": [
        "train.isna().sum()"
      ],
      "execution_count": 6,
      "outputs": [
        {
          "output_type": "execute_result",
          "data": {
            "text/plain": [
              "User_ID                                            0\n",
              "Tranport_Vehicle                                   0\n",
              "Platform                                           0\n",
              "Purpose                                            0\n",
              "Order_Day_of_Month                                 0\n",
              "Order_Week_of_Month                                0\n",
              "Time_of_Order                                      0\n",
              "Order_Confirm_Day_of_Month                         0\n",
              "Order_Confirm_Day_of_Weekday                       0\n",
              "Time_of_Confirmation                               0\n",
              "Arrival_At_Pickup_MonthDay                         0\n",
              "Arrival_At_Pickup_Weekday                          0\n",
              "Arrival_at_Pickup_Time                             0\n",
              "Pickup_MonthDay                                    0\n",
              "Pickup_WeekDay                                     0\n",
              "Pickup_Time                                        0\n",
              "Delivery_MonthDay                                  0\n",
              "Delivery_Weekday                                   0\n",
              "Delivery_Time                                      0\n",
              "DistanceCovered_KM                                 0\n",
              "Temperation                                     3072\n",
              "Precipitation_in_millimeters                   14448\n",
              "Latitude_Pickup                                    0\n",
              "Longitude_Pickup                                   0\n",
              "Latitude_Destination                               0\n",
              "Longitude_Destination                              0\n",
              "Time_Elapsed_from_Pickup_to_Delivery_in_Min        0\n",
              "dtype: int64"
            ]
          },
          "metadata": {
            "tags": []
          },
          "execution_count": 6
        }
      ]
    },
    {
      "cell_type": "code",
      "metadata": {
        "colab": {
          "base_uri": "https://localhost:8080/"
        },
        "id": "51mx9XoSNdDP",
        "outputId": "1bce3ecc-bd7d-4b3f-f797-160ac4152e12"
      },
      "source": [
        "test.isna().sum()"
      ],
      "execution_count": 7,
      "outputs": [
        {
          "output_type": "execute_result",
          "data": {
            "text/plain": [
              "User_ID                            0\n",
              "Tranport_Vehicle                   0\n",
              "Platform                           0\n",
              "Purpose                            0\n",
              "Order_Day_of_Month                 0\n",
              "Order_Week_of_Month                0\n",
              "Time_of_Order                      0\n",
              "Order_Confirm_Day_of_Month         0\n",
              "Order_Confirm_Day_of_Weekday       0\n",
              "Time_of_Confirmation               0\n",
              "Arrival_At_Pickup_MonthDay         0\n",
              "Arrival_At_Pickup_Weekday          0\n",
              "Arrival_at_Pickup_Time             0\n",
              "Pickup_MonthDay                    0\n",
              "Pickup_WeekDay                     0\n",
              "Pickup_Time                        0\n",
              "Delivery_MonthDay                  0\n",
              "Delivery_Weekday                   0\n",
              "Delivery_Time                      0\n",
              "DistanceCovered_KM                 0\n",
              "Temperation                     1294\n",
              "Precipitation_in_millimeters    6201\n",
              "Latitude_Pickup                    0\n",
              "Longitude_Pickup                   0\n",
              "Latitude_Destination               0\n",
              "Longitude_Destination              0\n",
              "dtype: int64"
            ]
          },
          "metadata": {
            "tags": []
          },
          "execution_count": 7
        }
      ]
    },
    {
      "cell_type": "markdown",
      "metadata": {
        "id": "21Vq4JIWaIVS"
      },
      "source": [
        "# Feature Engineering"
      ]
    },
    {
      "cell_type": "markdown",
      "metadata": {
        "id": "BGT876r8QZv7"
      },
      "source": [
        "Convert time-based variables from 12hr clock to 24hr clock"
      ]
    },
    {
      "cell_type": "code",
      "metadata": {
        "id": "PywLKfOmQWwf"
      },
      "source": [
        "def convert24(col):\n",
        "  col = pd.to_datetime(col)\n",
        "  col = col.dt.strftime('%H:%M:%S')\n",
        "  col = pd.to_datetime(col, format = '%H:%M:%S')\n",
        "  return col"
      ],
      "execution_count": 8,
      "outputs": []
    },
    {
      "cell_type": "code",
      "metadata": {
        "id": "ku91oC-dP8Rp"
      },
      "source": [
        "train['Arrival_at_Pickup_Time'] = convert24(train['Arrival_at_Pickup_Time'])\n",
        "train['Time_of_Order'] = convert24(train['Time_of_Order'])\n",
        "train['Time_of_Confirmation'] = convert24(train['Time_of_Confirmation'])\n",
        "train['Pickup_Time'] = convert24(train['Pickup_Time'])\n",
        "train['Delivery_Time'] = convert24(train['Delivery_Time'])\n",
        "\n",
        "test['Arrival_at_Pickup_Time'] = convert24(test['Arrival_at_Pickup_Time'])\n",
        "test['Time_of_Order'] = convert24(test['Time_of_Order'])\n",
        "test['Time_of_Confirmation'] = convert24(test['Time_of_Confirmation'])\n",
        "test['Pickup_Time'] = convert24(test['Pickup_Time'])\n",
        "test['Delivery_Time'] = convert24(test['Delivery_Time'])"
      ],
      "execution_count": 9,
      "outputs": []
    },
    {
      "cell_type": "code",
      "metadata": {
        "colab": {
          "base_uri": "https://localhost:8080/",
          "height": 309
        },
        "id": "yLmKfRXW_gOJ",
        "outputId": "18264c0a-c799-4ec0-e8cc-0610256e1c59"
      },
      "source": [
        "test.head()"
      ],
      "execution_count": 10,
      "outputs": [
        {
          "output_type": "execute_result",
          "data": {
            "text/html": [
              "<div>\n",
              "<style scoped>\n",
              "    .dataframe tbody tr th:only-of-type {\n",
              "        vertical-align: middle;\n",
              "    }\n",
              "\n",
              "    .dataframe tbody tr th {\n",
              "        vertical-align: top;\n",
              "    }\n",
              "\n",
              "    .dataframe thead th {\n",
              "        text-align: right;\n",
              "    }\n",
              "</style>\n",
              "<table border=\"1\" class=\"dataframe\">\n",
              "  <thead>\n",
              "    <tr style=\"text-align: right;\">\n",
              "      <th></th>\n",
              "      <th>User_ID</th>\n",
              "      <th>Tranport_Vehicle</th>\n",
              "      <th>Platform</th>\n",
              "      <th>Purpose</th>\n",
              "      <th>Order_Day_of_Month</th>\n",
              "      <th>Order_Week_of_Month</th>\n",
              "      <th>Time_of_Order</th>\n",
              "      <th>Order_Confirm_Day_of_Month</th>\n",
              "      <th>Order_Confirm_Day_of_Weekday</th>\n",
              "      <th>Time_of_Confirmation</th>\n",
              "      <th>Arrival_At_Pickup_MonthDay</th>\n",
              "      <th>Arrival_At_Pickup_Weekday</th>\n",
              "      <th>Arrival_at_Pickup_Time</th>\n",
              "      <th>Pickup_MonthDay</th>\n",
              "      <th>Pickup_WeekDay</th>\n",
              "      <th>Pickup_Time</th>\n",
              "      <th>Delivery_MonthDay</th>\n",
              "      <th>Delivery_Weekday</th>\n",
              "      <th>Delivery_Time</th>\n",
              "      <th>DistanceCovered_KM</th>\n",
              "      <th>Temperation</th>\n",
              "      <th>Precipitation_in_millimeters</th>\n",
              "      <th>Latitude_Pickup</th>\n",
              "      <th>Longitude_Pickup</th>\n",
              "      <th>Latitude_Destination</th>\n",
              "      <th>Longitude_Destination</th>\n",
              "    </tr>\n",
              "  </thead>\n",
              "  <tbody>\n",
              "    <tr>\n",
              "      <th>0</th>\n",
              "      <td>UserLogger_6224</td>\n",
              "      <td>Motorcycle</td>\n",
              "      <td>P3</td>\n",
              "      <td>Commercial</td>\n",
              "      <td>4</td>\n",
              "      <td>1</td>\n",
              "      <td>1900-01-01 15:08:18</td>\n",
              "      <td>4</td>\n",
              "      <td>1</td>\n",
              "      <td>1900-01-01 15:10:19</td>\n",
              "      <td>4</td>\n",
              "      <td>1</td>\n",
              "      <td>1900-01-01 15:22:48</td>\n",
              "      <td>4</td>\n",
              "      <td>1</td>\n",
              "      <td>1900-01-01 15:26:38</td>\n",
              "      <td>4</td>\n",
              "      <td>1</td>\n",
              "      <td>1900-01-01 16:01:26</td>\n",
              "      <td>13</td>\n",
              "      <td>nan</td>\n",
              "      <td>nan</td>\n",
              "      <td>-1.26</td>\n",
              "      <td>36.78</td>\n",
              "      <td>-1.32</td>\n",
              "      <td>36.83</td>\n",
              "    </tr>\n",
              "    <tr>\n",
              "      <th>1</th>\n",
              "      <td>UserLogger_16205</td>\n",
              "      <td>Motorcycle</td>\n",
              "      <td>P1</td>\n",
              "      <td>Personal</td>\n",
              "      <td>13</td>\n",
              "      <td>5</td>\n",
              "      <td>1900-01-01 15:34:11</td>\n",
              "      <td>13</td>\n",
              "      <td>5</td>\n",
              "      <td>1900-01-01 15:35:44</td>\n",
              "      <td>13</td>\n",
              "      <td>5</td>\n",
              "      <td>1900-01-01 15:47:03</td>\n",
              "      <td>13</td>\n",
              "      <td>5</td>\n",
              "      <td>1900-01-01 15:52:54</td>\n",
              "      <td>13</td>\n",
              "      <td>5</td>\n",
              "      <td>1900-01-01 16:21:44</td>\n",
              "      <td>13</td>\n",
              "      <td>22.10</td>\n",
              "      <td>nan</td>\n",
              "      <td>-1.24</td>\n",
              "      <td>36.77</td>\n",
              "      <td>-1.29</td>\n",
              "      <td>36.76</td>\n",
              "    </tr>\n",
              "    <tr>\n",
              "      <th>2</th>\n",
              "      <td>UserLogger_17099</td>\n",
              "      <td>Motorcycle</td>\n",
              "      <td>P3</td>\n",
              "      <td>Commercial</td>\n",
              "      <td>11</td>\n",
              "      <td>1</td>\n",
              "      <td>1900-01-01 10:18:09</td>\n",
              "      <td>11</td>\n",
              "      <td>1</td>\n",
              "      <td>1900-01-01 10:18:18</td>\n",
              "      <td>11</td>\n",
              "      <td>1</td>\n",
              "      <td>1900-01-01 10:18:23</td>\n",
              "      <td>11</td>\n",
              "      <td>1</td>\n",
              "      <td>1900-01-01 10:54:39</td>\n",
              "      <td>11</td>\n",
              "      <td>1</td>\n",
              "      <td>1900-01-01 10:55:02</td>\n",
              "      <td>11</td>\n",
              "      <td>29.60</td>\n",
              "      <td>nan</td>\n",
              "      <td>-1.32</td>\n",
              "      <td>36.83</td>\n",
              "      <td>-1.26</td>\n",
              "      <td>36.79</td>\n",
              "    </tr>\n",
              "    <tr>\n",
              "      <th>3</th>\n",
              "      <td>UserLogger_9892</td>\n",
              "      <td>Motorcycle</td>\n",
              "      <td>P3</td>\n",
              "      <td>Commercial</td>\n",
              "      <td>5</td>\n",
              "      <td>2</td>\n",
              "      <td>1900-01-01 16:45:37</td>\n",
              "      <td>5</td>\n",
              "      <td>2</td>\n",
              "      <td>1900-01-01 16:48:44</td>\n",
              "      <td>5</td>\n",
              "      <td>2</td>\n",
              "      <td>1900-01-01 17:07:38</td>\n",
              "      <td>5</td>\n",
              "      <td>2</td>\n",
              "      <td>1900-01-01 17:16:02</td>\n",
              "      <td>5</td>\n",
              "      <td>2</td>\n",
              "      <td>1900-01-01 18:12:00</td>\n",
              "      <td>21</td>\n",
              "      <td>28.20</td>\n",
              "      <td>nan</td>\n",
              "      <td>-1.29</td>\n",
              "      <td>36.90</td>\n",
              "      <td>-1.30</td>\n",
              "      <td>36.76</td>\n",
              "    </tr>\n",
              "    <tr>\n",
              "      <th>4</th>\n",
              "      <td>UserLogger_8487</td>\n",
              "      <td>Motorcycle</td>\n",
              "      <td>P3</td>\n",
              "      <td>Commercial</td>\n",
              "      <td>11</td>\n",
              "      <td>5</td>\n",
              "      <td>1900-01-01 15:56:56</td>\n",
              "      <td>11</td>\n",
              "      <td>5</td>\n",
              "      <td>1900-01-01 15:57:09</td>\n",
              "      <td>11</td>\n",
              "      <td>5</td>\n",
              "      <td>1900-01-01 15:57:14</td>\n",
              "      <td>11</td>\n",
              "      <td>5</td>\n",
              "      <td>1900-01-01 16:11:56</td>\n",
              "      <td>11</td>\n",
              "      <td>5</td>\n",
              "      <td>1900-01-01 16:27:57</td>\n",
              "      <td>11</td>\n",
              "      <td>25.40</td>\n",
              "      <td>nan</td>\n",
              "      <td>-1.33</td>\n",
              "      <td>36.85</td>\n",
              "      <td>-1.29</td>\n",
              "      <td>36.90</td>\n",
              "    </tr>\n",
              "  </tbody>\n",
              "</table>\n",
              "</div>"
            ],
            "text/plain": [
              "            User_ID Tranport_Vehicle Platform     Purpose  Order_Day_of_Month  \\\n",
              "0   UserLogger_6224       Motorcycle       P3  Commercial                   4   \n",
              "1  UserLogger_16205       Motorcycle       P1    Personal                  13   \n",
              "2  UserLogger_17099       Motorcycle       P3  Commercial                  11   \n",
              "3   UserLogger_9892       Motorcycle       P3  Commercial                   5   \n",
              "4   UserLogger_8487       Motorcycle       P3  Commercial                  11   \n",
              "\n",
              "   Order_Week_of_Month       Time_of_Order  Order_Confirm_Day_of_Month  \\\n",
              "0                    1 1900-01-01 15:08:18                           4   \n",
              "1                    5 1900-01-01 15:34:11                          13   \n",
              "2                    1 1900-01-01 10:18:09                          11   \n",
              "3                    2 1900-01-01 16:45:37                           5   \n",
              "4                    5 1900-01-01 15:56:56                          11   \n",
              "\n",
              "   Order_Confirm_Day_of_Weekday Time_of_Confirmation  \\\n",
              "0                             1  1900-01-01 15:10:19   \n",
              "1                             5  1900-01-01 15:35:44   \n",
              "2                             1  1900-01-01 10:18:18   \n",
              "3                             2  1900-01-01 16:48:44   \n",
              "4                             5  1900-01-01 15:57:09   \n",
              "\n",
              "   Arrival_At_Pickup_MonthDay  Arrival_At_Pickup_Weekday  \\\n",
              "0                           4                          1   \n",
              "1                          13                          5   \n",
              "2                          11                          1   \n",
              "3                           5                          2   \n",
              "4                          11                          5   \n",
              "\n",
              "  Arrival_at_Pickup_Time  Pickup_MonthDay  Pickup_WeekDay         Pickup_Time  \\\n",
              "0    1900-01-01 15:22:48                4               1 1900-01-01 15:26:38   \n",
              "1    1900-01-01 15:47:03               13               5 1900-01-01 15:52:54   \n",
              "2    1900-01-01 10:18:23               11               1 1900-01-01 10:54:39   \n",
              "3    1900-01-01 17:07:38                5               2 1900-01-01 17:16:02   \n",
              "4    1900-01-01 15:57:14               11               5 1900-01-01 16:11:56   \n",
              "\n",
              "   Delivery_MonthDay  Delivery_Weekday       Delivery_Time  \\\n",
              "0                  4                 1 1900-01-01 16:01:26   \n",
              "1                 13                 5 1900-01-01 16:21:44   \n",
              "2                 11                 1 1900-01-01 10:55:02   \n",
              "3                  5                 2 1900-01-01 18:12:00   \n",
              "4                 11                 5 1900-01-01 16:27:57   \n",
              "\n",
              "   DistanceCovered_KM  Temperation  Precipitation_in_millimeters  \\\n",
              "0                  13          nan                           nan   \n",
              "1                  13        22.10                           nan   \n",
              "2                  11        29.60                           nan   \n",
              "3                  21        28.20                           nan   \n",
              "4                  11        25.40                           nan   \n",
              "\n",
              "   Latitude_Pickup  Longitude_Pickup  Latitude_Destination  \\\n",
              "0            -1.26             36.78                 -1.32   \n",
              "1            -1.24             36.77                 -1.29   \n",
              "2            -1.32             36.83                 -1.26   \n",
              "3            -1.29             36.90                 -1.30   \n",
              "4            -1.33             36.85                 -1.29   \n",
              "\n",
              "   Longitude_Destination  \n",
              "0                  36.83  \n",
              "1                  36.76  \n",
              "2                  36.79  \n",
              "3                  36.76  \n",
              "4                  36.90  "
            ]
          },
          "metadata": {
            "tags": []
          },
          "execution_count": 10
        }
      ]
    },
    {
      "cell_type": "code",
      "metadata": {
        "colab": {
          "base_uri": "https://localhost:8080/"
        },
        "id": "m6bYWi2SEZqQ",
        "outputId": "ab9b7f30-f0f2-444a-9a48-597ab28f02c9"
      },
      "source": [
        "test.info()"
      ],
      "execution_count": 11,
      "outputs": [
        {
          "output_type": "stream",
          "text": [
            "<class 'pandas.core.frame.DataFrame'>\n",
            "RangeIndex: 6361 entries, 0 to 6360\n",
            "Data columns (total 26 columns):\n",
            " #   Column                        Non-Null Count  Dtype         \n",
            "---  ------                        --------------  -----         \n",
            " 0   User_ID                       6361 non-null   object        \n",
            " 1   Tranport_Vehicle              6361 non-null   object        \n",
            " 2   Platform                      6361 non-null   object        \n",
            " 3   Purpose                       6361 non-null   object        \n",
            " 4   Order_Day_of_Month            6361 non-null   int64         \n",
            " 5   Order_Week_of_Month           6361 non-null   int64         \n",
            " 6   Time_of_Order                 6361 non-null   datetime64[ns]\n",
            " 7   Order_Confirm_Day_of_Month    6361 non-null   int64         \n",
            " 8   Order_Confirm_Day_of_Weekday  6361 non-null   int64         \n",
            " 9   Time_of_Confirmation          6361 non-null   datetime64[ns]\n",
            " 10  Arrival_At_Pickup_MonthDay    6361 non-null   int64         \n",
            " 11  Arrival_At_Pickup_Weekday     6361 non-null   int64         \n",
            " 12  Arrival_at_Pickup_Time        6361 non-null   datetime64[ns]\n",
            " 13  Pickup_MonthDay               6361 non-null   int64         \n",
            " 14  Pickup_WeekDay                6361 non-null   int64         \n",
            " 15  Pickup_Time                   6361 non-null   datetime64[ns]\n",
            " 16  Delivery_MonthDay             6361 non-null   int64         \n",
            " 17  Delivery_Weekday              6361 non-null   int64         \n",
            " 18  Delivery_Time                 6361 non-null   datetime64[ns]\n",
            " 19  DistanceCovered_KM            6361 non-null   int64         \n",
            " 20  Temperation                   5067 non-null   float64       \n",
            " 21  Precipitation_in_millimeters  160 non-null    float64       \n",
            " 22  Latitude_Pickup               6361 non-null   float64       \n",
            " 23  Longitude_Pickup              6361 non-null   float64       \n",
            " 24  Latitude_Destination          6361 non-null   float64       \n",
            " 25  Longitude_Destination         6361 non-null   float64       \n",
            "dtypes: datetime64[ns](5), float64(6), int64(11), object(4)\n",
            "memory usage: 1.3+ MB\n"
          ],
          "name": "stdout"
        }
      ]
    },
    {
      "cell_type": "code",
      "metadata": {
        "id": "34vpbGD-0IbQ"
      },
      "source": [
        "test['Time_Elapsed_from_Pickup_to_Delivery_in_Min'] = test['Delivery_Time'] - test['Pickup_Time']"
      ],
      "execution_count": 12,
      "outputs": []
    },
    {
      "cell_type": "markdown",
      "metadata": {
        "id": "9BRQT0eO_mmH"
      },
      "source": [
        "Extract the time component from the datetime object on both test and train datasets"
      ]
    },
    {
      "cell_type": "code",
      "metadata": {
        "id": "ZAW6PGs-w4El"
      },
      "source": [
        "# Train\n",
        "train['Time_of_Order'] = pd.to_datetime(train['Time_of_Order']).dt.time\n",
        "train['Time_of_Confirmation'] = pd.to_datetime(train['Time_of_Confirmation']).dt.time\n",
        "train['Arrival_at_Pickup_Time'] = pd.to_datetime(train['Arrival_at_Pickup_Time']).dt.time\n",
        "train['Pickup_Time'] = pd.to_datetime(train['Pickup_Time']).dt.time\n",
        "train['Delivery_Time'] = pd.to_datetime(train['Delivery_Time']).dt.time\n",
        "\n",
        "# Test\n",
        "test['Time_of_Order'] = pd.to_datetime(test['Time_of_Order']).dt.time\n",
        "test['Time_of_Confirmation'] = pd.to_datetime(test['Time_of_Confirmation']).dt.time\n",
        "test['Arrival_at_Pickup_Time'] = pd.to_datetime(test['Arrival_at_Pickup_Time']).dt.time\n",
        "test['Pickup_Time'] = pd.to_datetime(test['Pickup_Time']).dt.time\n",
        "test['Delivery_Time'] = pd.to_datetime(test['Delivery_Time']).dt.time"
      ],
      "execution_count": 13,
      "outputs": []
    },
    {
      "cell_type": "code",
      "metadata": {
        "colab": {
          "base_uri": "https://localhost:8080/"
        },
        "id": "oqGf3h2ELSSy",
        "outputId": "b5b98ad1-a322-4e4d-f1a5-3c57f7cc111f"
      },
      "source": [
        "test.info()"
      ],
      "execution_count": 14,
      "outputs": [
        {
          "output_type": "stream",
          "text": [
            "<class 'pandas.core.frame.DataFrame'>\n",
            "RangeIndex: 6361 entries, 0 to 6360\n",
            "Data columns (total 27 columns):\n",
            " #   Column                                       Non-Null Count  Dtype          \n",
            "---  ------                                       --------------  -----          \n",
            " 0   User_ID                                      6361 non-null   object         \n",
            " 1   Tranport_Vehicle                             6361 non-null   object         \n",
            " 2   Platform                                     6361 non-null   object         \n",
            " 3   Purpose                                      6361 non-null   object         \n",
            " 4   Order_Day_of_Month                           6361 non-null   int64          \n",
            " 5   Order_Week_of_Month                          6361 non-null   int64          \n",
            " 6   Time_of_Order                                6361 non-null   object         \n",
            " 7   Order_Confirm_Day_of_Month                   6361 non-null   int64          \n",
            " 8   Order_Confirm_Day_of_Weekday                 6361 non-null   int64          \n",
            " 9   Time_of_Confirmation                         6361 non-null   object         \n",
            " 10  Arrival_At_Pickup_MonthDay                   6361 non-null   int64          \n",
            " 11  Arrival_At_Pickup_Weekday                    6361 non-null   int64          \n",
            " 12  Arrival_at_Pickup_Time                       6361 non-null   object         \n",
            " 13  Pickup_MonthDay                              6361 non-null   int64          \n",
            " 14  Pickup_WeekDay                               6361 non-null   int64          \n",
            " 15  Pickup_Time                                  6361 non-null   object         \n",
            " 16  Delivery_MonthDay                            6361 non-null   int64          \n",
            " 17  Delivery_Weekday                             6361 non-null   int64          \n",
            " 18  Delivery_Time                                6361 non-null   object         \n",
            " 19  DistanceCovered_KM                           6361 non-null   int64          \n",
            " 20  Temperation                                  5067 non-null   float64        \n",
            " 21  Precipitation_in_millimeters                 160 non-null    float64        \n",
            " 22  Latitude_Pickup                              6361 non-null   float64        \n",
            " 23  Longitude_Pickup                             6361 non-null   float64        \n",
            " 24  Latitude_Destination                         6361 non-null   float64        \n",
            " 25  Longitude_Destination                        6361 non-null   float64        \n",
            " 26  Time_Elapsed_from_Pickup_to_Delivery_in_Min  6361 non-null   timedelta64[ns]\n",
            "dtypes: float64(6), int64(11), object(9), timedelta64[ns](1)\n",
            "memory usage: 1.3+ MB\n"
          ],
          "name": "stdout"
        }
      ]
    },
    {
      "cell_type": "markdown",
      "metadata": {
        "id": "4AriQ81ryps1"
      },
      "source": [
        "Convert the target column to datetime[ns] format"
      ]
    },
    {
      "cell_type": "code",
      "metadata": {
        "id": "9JfSBR3DLOJd"
      },
      "source": [
        "test['Time_Elapsed_from_Pickup_to_Delivery_in_Min'] = test['Time_Elapsed_from_Pickup_to_Delivery_in_Min'].values.astype('datetime64[ns]')"
      ],
      "execution_count": 15,
      "outputs": []
    },
    {
      "cell_type": "markdown",
      "metadata": {
        "id": "SsaB0Kv0y0jd"
      },
      "source": [
        "Extract the time component of the datetime data"
      ]
    },
    {
      "cell_type": "code",
      "metadata": {
        "id": "KB1WbhShLx0Y"
      },
      "source": [
        "test['Time_Elapsed_from_Pickup_to_Delivery_in_Min'] = test['Time_Elapsed_from_Pickup_to_Delivery_in_Min'].dt.time"
      ],
      "execution_count": 16,
      "outputs": []
    },
    {
      "cell_type": "markdown",
      "metadata": {
        "id": "nmGYcmCWy-6S"
      },
      "source": [
        "Convert the time data to '%M.%S' float format. "
      ]
    },
    {
      "cell_type": "code",
      "metadata": {
        "id": "B66e3HgMNYqp"
      },
      "source": [
        "test[['h','m','s']] = test['Time_Elapsed_from_Pickup_to_Delivery_in_Min'].astype(str).str.split(':', expand=True).astype(int)\n",
        "test['hm'] = test['h'] * 60 + test['m']\n",
        "test['hm'] = test['hm'].astype('str')\n",
        "test['s'] = test['s'].astype('str')\n",
        "str_time = test['hm'] + '.' + test['s']\n",
        "str_time = str_time.astype('float64')\n",
        "test['Time_Elapsed_from_Pickup_to_Delivery_in_Min'] = str_time\n",
        "test = test.drop(columns = ['h', 'm', 's', 'hm', ], axis = 1)"
      ],
      "execution_count": 17,
      "outputs": []
    },
    {
      "cell_type": "code",
      "metadata": {
        "id": "p1mly5Sy-VF8"
      },
      "source": [
        "# Time_of_Order\n",
        "test[['h', 'm', 's']] = test['Time_of_Order'].astype(str).str.split(':', expand = True).astype(int)\n",
        "test[['hm']] = test['h'] * 60 + test['m']\n",
        "test['hm'] = test['hm'].astype('str')\n",
        "test['s'] = test['s'].astype('str')\n",
        "str_time1 = test['hm'] + '.' + test['s']\n",
        "str_time1 = str_time1.astype('float64')\n",
        "test['Time_of_Order'] = str_time1\n",
        "test = test.drop(columns = ['h', 'm', 's', 'hm'])\n",
        "\n",
        "# Time_of_Confirmation\n",
        "test[['h2', 'm2', 's2']] = test['Time_of_Confirmation'].astype(str).str.split(':', expand = True).astype(int)\n",
        "test[['hm2']] = test['h2'] * 60 + test['m2']\n",
        "test['hm2'] = test['hm2'].astype('str')\n",
        "test['s2'] = test['s2'].astype('str')\n",
        "str_time2 = test['hm2'] + '.' + test['s2']\n",
        "str_time2 = str_time2.astype('float64')\n",
        "test['Time_of_Confirmation'] = str_time2\n",
        "test = test.drop(columns = ['h2', 'm2', 's2', 'hm2'])\n",
        "\n",
        "# Arrival_at_Pickup_Time\n",
        "test[['h3', 'm3', 's3']] = test['Arrival_at_Pickup_Time'].astype(str).str.split(':', expand = True).astype(int)\n",
        "test[['hm3']] = test['h3'] * 60 + test['m3']\n",
        "test['hm3'] = test['hm3'].astype('str')\n",
        "test['s3'] = test['s3'].astype('str')\n",
        "str_time3 = test['hm3'] + '.' + test['s3']\n",
        "str_time3 = str_time3.astype('float64')\n",
        "test['Arrival_at_Pickup_Time'] = str_time3\n",
        "test = test.drop(columns = ['h3', 'm3', 's3', 'hm3'])\n",
        "\n",
        "# Pickup_Time\n",
        "test[['h4', 'm4', 's4']] = test['Pickup_Time'].astype(str).str.split(':', expand = True).astype(int)\n",
        "test[['hm4']] = test['h4'] * 60 + test['m4']\n",
        "test['hm4'] = test['hm4'].astype('str')\n",
        "test['s4'] = test['s4'].astype('str')\n",
        "str_time4 = test['hm4'] + '.' + test['s4']\n",
        "str_time4 = str_time4.astype('float64')\n",
        "test['Pickup_Time'] = str_time4\n",
        "test = test.drop(columns = ['h4', 'm4', 's4', 'hm4'])\n",
        "\n",
        "# Delivery_Time\n",
        "test[['h5', 'm5', 's5']] = test['Delivery_Time'].astype(str).str.split(':', expand = True).astype(int)\n",
        "test[['hm5']] = test['h5'] * 60 + test['m5']\n",
        "test['hm5'] = test['hm5'].astype('str')\n",
        "test['s5'] = test['s5'].astype('str')\n",
        "str_time5 = test['hm5'] + '.' + test['s5']\n",
        "str_time5 = str_time5.astype('float64')\n",
        "test['Delivery_Time'] = str_time5\n",
        "test = test.drop(columns = ['h5', 'm5', 's5', 'hm5'])"
      ],
      "execution_count": 18,
      "outputs": []
    },
    {
      "cell_type": "code",
      "metadata": {
        "id": "muvI8ZUUK1av"
      },
      "source": [
        "# Time_of_Order\n",
        "train[['h', 'm', 's']] = train['Time_of_Order'].astype(str).str.split(':', expand = True).astype(int)\n",
        "train[['hm']] = train['h'] * 60 + train['m']\n",
        "train['hm'] = train['hm'].astype('str')\n",
        "train['s'] = train['s'].astype('str')\n",
        "str_time1 = train['hm'] + '.' + train['s']\n",
        "str_time1 = str_time1.astype('float64')\n",
        "train['Time_of_Order'] = str_time1\n",
        "train = train.drop(columns = ['h', 'm', 's', 'hm'])\n",
        "\n",
        "# Time_of_Confirmation\n",
        "train[['h2', 'm2', 's2']] = train['Time_of_Confirmation'].astype(str).str.split(':', expand = True).astype(int)\n",
        "train[['hm2']] = train['h2'] * 60 + train['m2']\n",
        "train['hm2'] = train['hm2'].astype('str')\n",
        "train['s2'] = train['s2'].astype('str')\n",
        "str_time2 = train['hm2'] + '.' + train['s2']\n",
        "str_time2 = str_time2.astype('float64')\n",
        "train['Time_of_Confirmation'] = str_time2\n",
        "train = train.drop(columns = ['h2', 'm2', 's2', 'hm2'])\n",
        "\n",
        "# Arrival_at_Pickup_Time\n",
        "train[['h3', 'm3', 's3']] = train['Arrival_at_Pickup_Time'].astype(str).str.split(':', expand = True).astype(int)\n",
        "train[['hm3']] = train['h3'] * 60 + train['m3']\n",
        "train['hm3'] = train['hm3'].astype('str')\n",
        "train['s3'] = train['s3'].astype('str')\n",
        "str_time3 = train['hm3'] + '.' + train['s3']\n",
        "str_time3 = str_time3.astype('float64')\n",
        "train['Arrival_at_Pickup_Time'] = str_time3\n",
        "train = train.drop(columns = ['h3', 'm3', 's3', 'hm3'])\n",
        "\n",
        "# Pickup_Time\n",
        "train[['h4', 'm4', 's4']] = train['Pickup_Time'].astype(str).str.split(':', expand = True).astype(int)\n",
        "train[['hm4']] = train['h4'] * 60 + train['m4']\n",
        "train['hm4'] = train['hm4'].astype('str')\n",
        "train['s4'] = train['s4'].astype('str')\n",
        "str_time4 = train['hm4'] + '.' + train['s4']\n",
        "str_time4 = str_time4.astype('float64')\n",
        "train['Pickup_Time'] = str_time4\n",
        "train = train.drop(columns = ['h4', 'm4', 's4', 'hm4'])\n",
        "\n",
        "# Delivery_Time\n",
        "train[['h5', 'm5', 's5']] = train['Delivery_Time'].astype(str).str.split(':', expand = True).astype(int)\n",
        "train[['hm5']] = train['h5'] * 60 + train['m5']\n",
        "train['hm5'] = train['hm5'].astype('str')\n",
        "train['s5'] = train['s5'].astype('str')\n",
        "str_time5 = train['hm5'] + '.' + train['s5']\n",
        "str_time5 = str_time5.astype('float64')\n",
        "train['Delivery_Time'] = str_time5\n",
        "train = train.drop(columns = ['h5', 'm5', 's5', 'hm5'])"
      ],
      "execution_count": 19,
      "outputs": []
    },
    {
      "cell_type": "markdown",
      "metadata": {
        "id": "xnu3Nrq-z9Gq"
      },
      "source": [
        "Concatenate the test and train data for easier feature selection. Drop the User ID column"
      ]
    },
    {
      "cell_type": "code",
      "metadata": {
        "id": "V2gOPiWjPI-U"
      },
      "source": [
        "biker_data = pd.concat([train, test], axis = 0)\n",
        "biker_data1 = biker_data.drop(columns = ['User_ID'], axis = 1)"
      ],
      "execution_count": 20,
      "outputs": []
    },
    {
      "cell_type": "markdown",
      "metadata": {
        "id": "PaJqN-S-0RXR"
      },
      "source": [
        "Label encode the categorical columns - Tranport_Vehicle, PLatform and Purpose"
      ]
    },
    {
      "cell_type": "code",
      "metadata": {
        "id": "LugLDpbw37R-"
      },
      "source": [
        "le = preprocessing.LabelEncoder()\n",
        "biker_data1['Tranport_Vehicle'] = le.fit_transform(biker_data1['Tranport_Vehicle'])\n",
        "biker_data1['Platform'] = le.fit_transform(biker_data1['Platform'])\n",
        "biker_data1['Purpose'] = le.fit_transform(biker_data1['Purpose'])"
      ],
      "execution_count": 21,
      "outputs": []
    },
    {
      "cell_type": "markdown",
      "metadata": {
        "id": "BeqnTNIk04Wi"
      },
      "source": [
        "The Precipitation and Temperation columns are the only columns with missing values in the dataset. "
      ]
    },
    {
      "cell_type": "markdown",
      "metadata": {
        "id": "8Z73JbSdWgsN"
      },
      "source": [
        "I have made the assumption that the missing values (NaN) in the Precipitation_in_millimeters column are the days where there was no form of rain or drizzle so I shall replace the NaN values with zero to reflect that. \n",
        "\n",
        "I have also made a similar assumption for the Temperation column. The missing values are cold days when the temperature was at zero degrees. I shall also replace the Nan values with zero."
      ]
    },
    {
      "cell_type": "code",
      "metadata": {
        "colab": {
          "base_uri": "https://localhost:8080/",
          "height": 224
        },
        "id": "_7ZMTxGaWKnH",
        "outputId": "223f08b6-891c-419c-b995-877ae0322ddf"
      },
      "source": [
        "biker_data1['Precipitation_in_millimeters'] = biker_data1['Precipitation_in_millimeters'].replace(np.nan, 0.0)\n",
        "biker_data1['Temperation'] = biker_data1['Temperation'].replace(np.nan, 0.0)\n",
        "biker_data1.head()"
      ],
      "execution_count": 22,
      "outputs": [
        {
          "output_type": "execute_result",
          "data": {
            "text/html": [
              "<div>\n",
              "<style scoped>\n",
              "    .dataframe tbody tr th:only-of-type {\n",
              "        vertical-align: middle;\n",
              "    }\n",
              "\n",
              "    .dataframe tbody tr th {\n",
              "        vertical-align: top;\n",
              "    }\n",
              "\n",
              "    .dataframe thead th {\n",
              "        text-align: right;\n",
              "    }\n",
              "</style>\n",
              "<table border=\"1\" class=\"dataframe\">\n",
              "  <thead>\n",
              "    <tr style=\"text-align: right;\">\n",
              "      <th></th>\n",
              "      <th>Tranport_Vehicle</th>\n",
              "      <th>Platform</th>\n",
              "      <th>Purpose</th>\n",
              "      <th>Order_Day_of_Month</th>\n",
              "      <th>Order_Week_of_Month</th>\n",
              "      <th>Time_of_Order</th>\n",
              "      <th>Order_Confirm_Day_of_Month</th>\n",
              "      <th>Order_Confirm_Day_of_Weekday</th>\n",
              "      <th>Time_of_Confirmation</th>\n",
              "      <th>Arrival_At_Pickup_MonthDay</th>\n",
              "      <th>Arrival_At_Pickup_Weekday</th>\n",
              "      <th>Arrival_at_Pickup_Time</th>\n",
              "      <th>Pickup_MonthDay</th>\n",
              "      <th>Pickup_WeekDay</th>\n",
              "      <th>Pickup_Time</th>\n",
              "      <th>Delivery_MonthDay</th>\n",
              "      <th>Delivery_Weekday</th>\n",
              "      <th>Delivery_Time</th>\n",
              "      <th>DistanceCovered_KM</th>\n",
              "      <th>Temperation</th>\n",
              "      <th>Precipitation_in_millimeters</th>\n",
              "      <th>Latitude_Pickup</th>\n",
              "      <th>Longitude_Pickup</th>\n",
              "      <th>Latitude_Destination</th>\n",
              "      <th>Longitude_Destination</th>\n",
              "      <th>Time_Elapsed_from_Pickup_to_Delivery_in_Min</th>\n",
              "    </tr>\n",
              "  </thead>\n",
              "  <tbody>\n",
              "    <tr>\n",
              "      <th>0</th>\n",
              "      <td>0</td>\n",
              "      <td>2</td>\n",
              "      <td>0</td>\n",
              "      <td>27</td>\n",
              "      <td>1</td>\n",
              "      <td>558.22</td>\n",
              "      <td>27</td>\n",
              "      <td>1</td>\n",
              "      <td>558.42</td>\n",
              "      <td>27</td>\n",
              "      <td>1</td>\n",
              "      <td>586.23</td>\n",
              "      <td>27</td>\n",
              "      <td>1</td>\n",
              "      <td>588.20</td>\n",
              "      <td>27</td>\n",
              "      <td>1</td>\n",
              "      <td>611.30</td>\n",
              "      <td>6</td>\n",
              "      <td>20.90</td>\n",
              "      <td>1.00</td>\n",
              "      <td>-1.29</td>\n",
              "      <td>36.81</td>\n",
              "      <td>-1.30</td>\n",
              "      <td>36.77</td>\n",
              "      <td>23.47</td>\n",
              "    </tr>\n",
              "    <tr>\n",
              "      <th>1</th>\n",
              "      <td>0</td>\n",
              "      <td>2</td>\n",
              "      <td>0</td>\n",
              "      <td>25</td>\n",
              "      <td>1</td>\n",
              "      <td>727.40</td>\n",
              "      <td>25</td>\n",
              "      <td>1</td>\n",
              "      <td>728.36</td>\n",
              "      <td>25</td>\n",
              "      <td>1</td>\n",
              "      <td>761.16</td>\n",
              "      <td>25</td>\n",
              "      <td>1</td>\n",
              "      <td>765.15</td>\n",
              "      <td>25</td>\n",
              "      <td>1</td>\n",
              "      <td>782.90</td>\n",
              "      <td>9</td>\n",
              "      <td>29.90</td>\n",
              "      <td>0.00</td>\n",
              "      <td>-1.23</td>\n",
              "      <td>36.84</td>\n",
              "      <td>-1.25</td>\n",
              "      <td>36.87</td>\n",
              "      <td>16.90</td>\n",
              "    </tr>\n",
              "    <tr>\n",
              "      <th>2</th>\n",
              "      <td>0</td>\n",
              "      <td>2</td>\n",
              "      <td>0</td>\n",
              "      <td>12</td>\n",
              "      <td>6</td>\n",
              "      <td>800.11</td>\n",
              "      <td>12</td>\n",
              "      <td>6</td>\n",
              "      <td>814.44</td>\n",
              "      <td>12</td>\n",
              "      <td>6</td>\n",
              "      <td>834.51</td>\n",
              "      <td>12</td>\n",
              "      <td>6</td>\n",
              "      <td>838.20</td>\n",
              "      <td>12</td>\n",
              "      <td>6</td>\n",
              "      <td>860.10</td>\n",
              "      <td>9</td>\n",
              "      <td>28.50</td>\n",
              "      <td>0.00</td>\n",
              "      <td>-1.32</td>\n",
              "      <td>36.85</td>\n",
              "      <td>-1.27</td>\n",
              "      <td>36.82</td>\n",
              "      <td>21.83</td>\n",
              "    </tr>\n",
              "    <tr>\n",
              "      <th>3</th>\n",
              "      <td>0</td>\n",
              "      <td>2</td>\n",
              "      <td>0</td>\n",
              "      <td>28</td>\n",
              "      <td>4</td>\n",
              "      <td>673.53</td>\n",
              "      <td>28</td>\n",
              "      <td>4</td>\n",
              "      <td>674.70</td>\n",
              "      <td>28</td>\n",
              "      <td>4</td>\n",
              "      <td>685.32</td>\n",
              "      <td>28</td>\n",
              "      <td>4</td>\n",
              "      <td>713.20</td>\n",
              "      <td>28</td>\n",
              "      <td>4</td>\n",
              "      <td>713.23</td>\n",
              "      <td>9</td>\n",
              "      <td>26.80</td>\n",
              "      <td>0.00</td>\n",
              "      <td>-1.26</td>\n",
              "      <td>36.79</td>\n",
              "      <td>-1.30</td>\n",
              "      <td>36.83</td>\n",
              "      <td>0.05</td>\n",
              "    </tr>\n",
              "    <tr>\n",
              "      <th>4</th>\n",
              "      <td>0</td>\n",
              "      <td>2</td>\n",
              "      <td>0</td>\n",
              "      <td>12</td>\n",
              "      <td>2</td>\n",
              "      <td>821.20</td>\n",
              "      <td>12</td>\n",
              "      <td>2</td>\n",
              "      <td>821.57</td>\n",
              "      <td>12</td>\n",
              "      <td>2</td>\n",
              "      <td>880.49</td>\n",
              "      <td>12</td>\n",
              "      <td>2</td>\n",
              "      <td>885.15</td>\n",
              "      <td>12</td>\n",
              "      <td>2</td>\n",
              "      <td>912.49</td>\n",
              "      <td>7</td>\n",
              "      <td>30.10</td>\n",
              "      <td>0.00</td>\n",
              "      <td>-1.26</td>\n",
              "      <td>36.78</td>\n",
              "      <td>-1.29</td>\n",
              "      <td>36.79</td>\n",
              "      <td>27.57</td>\n",
              "    </tr>\n",
              "  </tbody>\n",
              "</table>\n",
              "</div>"
            ],
            "text/plain": [
              "   Tranport_Vehicle  Platform  Purpose  Order_Day_of_Month  \\\n",
              "0                 0         2        0                  27   \n",
              "1                 0         2        0                  25   \n",
              "2                 0         2        0                  12   \n",
              "3                 0         2        0                  28   \n",
              "4                 0         2        0                  12   \n",
              "\n",
              "   Order_Week_of_Month  Time_of_Order  Order_Confirm_Day_of_Month  \\\n",
              "0                    1         558.22                          27   \n",
              "1                    1         727.40                          25   \n",
              "2                    6         800.11                          12   \n",
              "3                    4         673.53                          28   \n",
              "4                    2         821.20                          12   \n",
              "\n",
              "   Order_Confirm_Day_of_Weekday  Time_of_Confirmation  \\\n",
              "0                             1                558.42   \n",
              "1                             1                728.36   \n",
              "2                             6                814.44   \n",
              "3                             4                674.70   \n",
              "4                             2                821.57   \n",
              "\n",
              "   Arrival_At_Pickup_MonthDay  Arrival_At_Pickup_Weekday  \\\n",
              "0                          27                          1   \n",
              "1                          25                          1   \n",
              "2                          12                          6   \n",
              "3                          28                          4   \n",
              "4                          12                          2   \n",
              "\n",
              "   Arrival_at_Pickup_Time  Pickup_MonthDay  Pickup_WeekDay  Pickup_Time  \\\n",
              "0                  586.23               27               1       588.20   \n",
              "1                  761.16               25               1       765.15   \n",
              "2                  834.51               12               6       838.20   \n",
              "3                  685.32               28               4       713.20   \n",
              "4                  880.49               12               2       885.15   \n",
              "\n",
              "   Delivery_MonthDay  Delivery_Weekday  Delivery_Time  DistanceCovered_KM  \\\n",
              "0                 27                 1         611.30                   6   \n",
              "1                 25                 1         782.90                   9   \n",
              "2                 12                 6         860.10                   9   \n",
              "3                 28                 4         713.23                   9   \n",
              "4                 12                 2         912.49                   7   \n",
              "\n",
              "   Temperation  Precipitation_in_millimeters  Latitude_Pickup  \\\n",
              "0        20.90                          1.00            -1.29   \n",
              "1        29.90                          0.00            -1.23   \n",
              "2        28.50                          0.00            -1.32   \n",
              "3        26.80                          0.00            -1.26   \n",
              "4        30.10                          0.00            -1.26   \n",
              "\n",
              "   Longitude_Pickup  Latitude_Destination  Longitude_Destination  \\\n",
              "0             36.81                 -1.30                  36.77   \n",
              "1             36.84                 -1.25                  36.87   \n",
              "2             36.85                 -1.27                  36.82   \n",
              "3             36.79                 -1.30                  36.83   \n",
              "4             36.78                 -1.29                  36.79   \n",
              "\n",
              "   Time_Elapsed_from_Pickup_to_Delivery_in_Min  \n",
              "0                                        23.47  \n",
              "1                                        16.90  \n",
              "2                                        21.83  \n",
              "3                                         0.05  \n",
              "4                                        27.57  "
            ]
          },
          "metadata": {
            "tags": []
          },
          "execution_count": 22
        }
      ]
    },
    {
      "cell_type": "markdown",
      "metadata": {
        "id": "M7-r-sDVZ_Va"
      },
      "source": [
        "# Feature Selection"
      ]
    },
    {
      "cell_type": "markdown",
      "metadata": {
        "id": "eD4IfRjxcvWL"
      },
      "source": [
        "I shall use the Pearson Correlation coefficient to select the most relevant features"
      ]
    },
    {
      "cell_type": "code",
      "metadata": {
        "id": "E764nq3gDa43"
      },
      "source": [
        "biker_corr = biker_data1.copy()"
      ],
      "execution_count": 23,
      "outputs": []
    },
    {
      "cell_type": "code",
      "metadata": {
        "id": "rM7MeSZ1A0vl"
      },
      "source": [
        "scaler = preprocessing.StandardScaler()\n",
        "scaled = scaler.fit_transform(biker_corr)\n",
        "biker_df = pd.DataFrame(data = scaled, columns = biker_corr.columns)"
      ],
      "execution_count": 24,
      "outputs": []
    },
    {
      "cell_type": "code",
      "metadata": {
        "id": "S9Ufr1C2cLul"
      },
      "source": [
        "def correlation(df, threshold):\n",
        "  corr_col = set()\n",
        "  corr_matrix = df.corr()\n",
        "  for i in range(len(corr_matrix.columns)):\n",
        "    for j in range(i):\n",
        "      if abs(corr_matrix.iloc[i, j]) > threshold:\n",
        "        colname = corr_matrix.columns[i]\n",
        "        corr_col.add(colname)\n",
        "  return corr_col"
      ],
      "execution_count": 25,
      "outputs": []
    },
    {
      "cell_type": "markdown",
      "metadata": {
        "id": "JzeInDTi10dV"
      },
      "source": [
        "The correlation threshold value has been set at 70% or 0.7. The columns with a correlation coefficient equal to or greater than the threshold value shall be dropped."
      ]
    },
    {
      "cell_type": "code",
      "metadata": {
        "colab": {
          "base_uri": "https://localhost:8080/"
        },
        "id": "_y2K0hDfglTj",
        "outputId": "762b4487-8093-4e6f-8bb0-88508f8636f8"
      },
      "source": [
        "corr_features = correlation(biker_df, 0.7)\n",
        "corr_features"
      ],
      "execution_count": 26,
      "outputs": [
        {
          "output_type": "execute_result",
          "data": {
            "text/plain": [
              "{'Arrival_At_Pickup_MonthDay',\n",
              " 'Arrival_At_Pickup_Weekday',\n",
              " 'Arrival_at_Pickup_Time',\n",
              " 'Delivery_MonthDay',\n",
              " 'Delivery_Time',\n",
              " 'Delivery_Weekday',\n",
              " 'Order_Confirm_Day_of_Month',\n",
              " 'Order_Confirm_Day_of_Weekday',\n",
              " 'Pickup_MonthDay',\n",
              " 'Pickup_Time',\n",
              " 'Pickup_WeekDay',\n",
              " 'Purpose',\n",
              " 'Time_of_Confirmation'}"
            ]
          },
          "metadata": {
            "tags": []
          },
          "execution_count": 26
        }
      ]
    },
    {
      "cell_type": "code",
      "metadata": {
        "id": "zEiBV_SLjFdf"
      },
      "source": [
        "biker_data1 = biker_data1.drop(corr_features, axis = 1)"
      ],
      "execution_count": 27,
      "outputs": []
    },
    {
      "cell_type": "markdown",
      "metadata": {
        "id": "hKRNcWrXA2N9"
      },
      "source": [
        "Scale data for feature selection with Pearson Correlation Coefficient"
      ]
    },
    {
      "cell_type": "code",
      "metadata": {
        "colab": {
          "base_uri": "https://localhost:8080/",
          "height": 831
        },
        "id": "DhDDiNCmjXN-",
        "outputId": "ca690a4d-a3d1-43a0-edb8-b887a0c94cc7"
      },
      "source": [
        "corr = np.triu(biker_data1.corr())\n",
        "plt.figure(figsize = (12, 10))\n",
        "sns.heatmap(biker_data1.corr(), annot = True, linewidths = 0.2, fmt = '.2f', mask = corr)"
      ],
      "execution_count": 28,
      "outputs": [
        {
          "output_type": "execute_result",
          "data": {
            "text/plain": [
              "<matplotlib.axes._subplots.AxesSubplot at 0x7f8be5de63d0>"
            ]
          },
          "metadata": {
            "tags": []
          },
          "execution_count": 28
        },
        {
          "output_type": "display_data",
          "data": {
            "image/png": "[encoded data removed]",
            "text/plain": [
              "<Figure size 864x720 with 2 Axes>"
            ]
          },
          "metadata": {
            "tags": []
          }
        }
      ]
    },
    {
      "cell_type": "markdown",
      "metadata": {
        "id": "4dp2aUARZ4ue"
      },
      "source": [
        "# Model Development"
      ]
    },
    {
      "cell_type": "markdown",
      "metadata": {
        "id": "n6MV5gLb2cOE"
      },
      "source": [
        "The Tranport_Vehicle column shall be dropped because it does not have a lot of variability."
      ]
    },
    {
      "cell_type": "code",
      "metadata": {
        "id": "YiTvviqnQXIr"
      },
      "source": [
        "biker_data1 = biker_data1.drop(columns = ['Tranport_Vehicle'], axis = 1)"
      ],
      "execution_count": 29,
      "outputs": []
    },
    {
      "cell_type": "code",
      "metadata": {
        "colab": {
          "base_uri": "https://localhost:8080/",
          "height": 831
        },
        "id": "nsVd6Lko7p4y",
        "outputId": "0fddbd7e-7b82-49ea-a04e-08aa7bab3c7d"
      },
      "source": [
        "corr = np.triu(biker_data1.corr())\n",
        "plt.figure(figsize = (12, 10))\n",
        "sns.heatmap(biker_data1.corr(), annot = True, linewidths = 0.2, fmt = '.2f', mask = corr)"
      ],
      "execution_count": 30,
      "outputs": [
        {
          "output_type": "execute_result",
          "data": {
            "text/plain": [
              "<matplotlib.axes._subplots.AxesSubplot at 0x7f8be5eba490>"
            ]
          },
          "metadata": {
            "tags": []
          },
          "execution_count": 30
        },
        {
          "output_type": "display_data",
          "data": {
            "image/png": "[encoded data removed]",
            "text/plain": [
              "<Figure size 864x720 with 2 Axes>"
            ]
          },
          "metadata": {
            "tags": []
          }
        }
      ]
    },
    {
      "cell_type": "markdown",
      "metadata": {
        "id": "y-933VZm79ah"
      },
      "source": [
        "### Train - Test Split"
      ]
    },
    {
      "cell_type": "markdown",
      "metadata": {
        "id": "v3VhOCTR8FjE"
      },
      "source": [
        "Seperate into train and test datasets. Split train dataset into train and validation columns. Log-normalise the target columns"
      ]
    },
    {
      "cell_type": "code",
      "metadata": {
        "id": "8ioR53yAY_pj"
      },
      "source": [
        "target = biker_data['Time_Elapsed_from_Pickup_to_Delivery_in_Min'].copy()\n",
        "\n",
        "target1 = target.iloc[0:14839]\n",
        "target2 = target.iloc[14840:]\n",
        "\n",
        "train = biker_data1.iloc[0:14839]\n",
        "test = biker_data1.iloc[14840:]\n",
        "\n",
        "target1 = np.log(target1).values\n",
        "target2 = np.log(target2).values\n",
        "train = train.drop(columns = ['Time_Elapsed_from_Pickup_to_Delivery_in_Min'], axis = 1).values\n",
        "\n",
        "# Train test split\n",
        "X_train, X_test, Y_train, Y_test = train_test_split(train, target1, test_size = 0.4, random_state = 10)"
      ],
      "execution_count": 31,
      "outputs": []
    },
    {
      "cell_type": "markdown",
      "metadata": {
        "id": "XbniBmwNA1tK"
      },
      "source": [
        "Part of a requirement for a standardised data set is to have each attribute have a mean value of zero and a standard deviation of 1. I shall implement standardisation using pipelines and then use cross-validation to validate performance of all the algorithms."
      ]
    },
    {
      "cell_type": "code",
      "metadata": {
        "colab": {
          "base_uri": "https://localhost:8080/"
        },
        "id": "eVZ2BUYsuA2x",
        "outputId": "158b2af4-688a-4213-c0c9-a50a5446f39f"
      },
      "source": [
        "pipelines = []\n",
        "pipelines.append(('ScaledRF', Pipeline([('Scaler', StandardScaler()), ('RF', RandomForestRegressor())])))\n",
        "pipelines.append(('ScaledGB', Pipeline([('Scaler', StandardScaler()), ('GB', GradientBoostingRegressor())])))\n",
        "\n",
        "results = []\n",
        "names = []\n",
        "for name, model in pipelines:\n",
        "    kfold = KFold(n_splits = 3, random_state = 10)\n",
        "    cv_results = cross_val_score(model, X_train, Y_train, cv = kfold, scoring = 'neg_mean_squared_error')\n",
        "    results.append(cv_results)\n",
        "    names.append(name)\n",
        "    notification = '%s: %f (%f)' % (name, cv_results.mean(), cv_results.std())\n",
        "    print(notification)"
      ],
      "execution_count": 32,
      "outputs": [
        {
          "output_type": "stream",
          "text": [
            "ScaledRF: -1.242953 (0.059720)\n",
            "ScaledGB: -1.154152 (0.070336)\n"
          ],
          "name": "stdout"
        }
      ]
    },
    {
      "cell_type": "markdown",
      "metadata": {
        "id": "ji4uypkSBLIx"
      },
      "source": [
        "From the output above, it looks like the Random Forest Regressor performs the best using a scaled version of the data. As it has a mean value (-1.247892) closer to zero From this point onward, the regression algorithm shall be using the Random Forest Regressor."
      ]
    },
    {
      "cell_type": "code",
      "metadata": {
        "id": "KGYKPFhdRG8O",
        "colab": {
          "base_uri": "https://localhost:8080/"
        },
        "outputId": "896410cb-f342-47f3-a98a-649a20d6efe3"
      },
      "source": [
        "scaler = preprocessing.StandardScaler()\n",
        "X_train_scaled = scaler.fit_transform(X_train)\n",
        "param_grid = {'max_depth': np.array([5, 10, 15, 20, 25]), \n",
        "              'n_estimators': np.array([200, 200, 600, 800, 1000])}\n",
        "model = RandomForestRegressor(random_state = 10)\n",
        "kfold = KFold(n_splits = 3, random_state = 10)\n",
        "grid = GridSearchCV(estimator = model, param_grid = param_grid, scoring = 'neg_mean_squared_error', cv = kfold)\n",
        "grid_result = grid.fit(X_train_scaled, Y_train)\n",
        "\n",
        "means = grid_result.cv_results_['mean_test_score']\n",
        "stds = grid_result.cv_results_['std_test_score']\n",
        "params = grid_result.cv_results_['params']\n",
        "for mean, stdev, param in zip(means, stds, params):\n",
        "    print('%f (%f) with: %r' % (mean, stdev, param))\n",
        "\n",
        "print('Best: %f using %s' % (grid_result.best_score_, grid_result.best_params_))"
      ],
      "execution_count": 33,
      "outputs": [
        {
          "output_type": "stream",
          "text": [
            "-1.160887 (0.072416) with: {'max_depth': 5, 'n_estimators': 200}\n",
            "-1.160887 (0.072416) with: {'max_depth': 5, 'n_estimators': 200}\n",
            "-1.160263 (0.072632) with: {'max_depth': 5, 'n_estimators': 600}\n",
            "-1.159841 (0.072383) with: {'max_depth': 5, 'n_estimators': 800}\n",
            "-1.159773 (0.072278) with: {'max_depth': 5, 'n_estimators': 1000}\n",
            "-1.203018 (0.057698) with: {'max_depth': 10, 'n_estimators': 200}\n",
            "-1.203018 (0.057698) with: {'max_depth': 10, 'n_estimators': 200}\n",
            "-1.202580 (0.058900) with: {'max_depth': 10, 'n_estimators': 600}\n",
            "-1.203553 (0.058391) with: {'max_depth': 10, 'n_estimators': 800}\n",
            "-1.203051 (0.057875) with: {'max_depth': 10, 'n_estimators': 1000}\n",
            "-1.232190 (0.054132) with: {'max_depth': 15, 'n_estimators': 200}\n",
            "-1.232190 (0.054132) with: {'max_depth': 15, 'n_estimators': 200}\n",
            "-1.230676 (0.055496) with: {'max_depth': 15, 'n_estimators': 600}\n",
            "-1.231590 (0.055712) with: {'max_depth': 15, 'n_estimators': 800}\n",
            "-1.231133 (0.054952) with: {'max_depth': 15, 'n_estimators': 1000}\n",
            "-1.238999 (0.053594) with: {'max_depth': 20, 'n_estimators': 200}\n",
            "-1.238999 (0.053594) with: {'max_depth': 20, 'n_estimators': 200}\n",
            "-1.234673 (0.055982) with: {'max_depth': 20, 'n_estimators': 600}\n",
            "-1.235952 (0.054880) with: {'max_depth': 20, 'n_estimators': 800}\n",
            "-1.235473 (0.054446) with: {'max_depth': 20, 'n_estimators': 1000}\n",
            "-1.240330 (0.052078) with: {'max_depth': 25, 'n_estimators': 200}\n",
            "-1.240330 (0.052078) with: {'max_depth': 25, 'n_estimators': 200}\n",
            "-1.236668 (0.056142) with: {'max_depth': 25, 'n_estimators': 600}\n",
            "-1.237447 (0.055144) with: {'max_depth': 25, 'n_estimators': 800}\n",
            "-1.236736 (0.054940) with: {'max_depth': 25, 'n_estimators': 1000}\n",
            "Best: -1.159773 using {'max_depth': 5, 'n_estimators': 1000}\n"
          ],
          "name": "stdout"
        }
      ]
    },
    {
      "cell_type": "markdown",
      "metadata": {
        "id": "m1rzZSYgBfF3"
      },
      "source": [
        "The best max_depth configuration is 5, along with a n_estimators configuration of 1000 give a negative mean square error closest to 0."
      ]
    },
    {
      "cell_type": "markdown",
      "metadata": {
        "id": "cqOPGQzwmoNT"
      },
      "source": [
        "### Validate model"
      ]
    },
    {
      "cell_type": "code",
      "metadata": {
        "id": "tPOvJSG_Osfg",
        "colab": {
          "base_uri": "https://localhost:8080/"
        },
        "outputId": "d09b8a6b-17b5-49f9-b8c6-e301d087724a"
      },
      "source": [
        "model = RandomForestRegressor(random_state = 10, max_depth = 5, n_estimators = 1000)\n",
        "model.fit(X_train_scaled, Y_train)\n",
        "\n",
        "X_test_rescaled = scaler.transform(X_test)\n",
        "predictions = model.predict(X_test_rescaled)\n",
        "mse = mean_squared_error(Y_test, predictions, squared = True)\n",
        "rmse = mean_squared_error(Y_test, predictions, squared = False)\n",
        "mse, rmse"
      ],
      "execution_count": 34,
      "outputs": [
        {
          "output_type": "execute_result",
          "data": {
            "text/plain": [
              "(1.0806529179165594, 1.039544572356837)"
            ]
          },
          "metadata": {
            "tags": []
          },
          "execution_count": 34
        }
      ]
    },
    {
      "cell_type": "markdown",
      "metadata": {
        "id": "azVsC-EjmnHA"
      },
      "source": [
        "The root-mean-square-error (RMSE) for the validation set is 1.039544. This is good."
      ]
    },
    {
      "cell_type": "markdown",
      "metadata": {
        "id": "5eOVBfmrmtsm"
      },
      "source": [
        "### Finalise model\n",
        "\n",
        "Apply model on test data"
      ]
    },
    {
      "cell_type": "code",
      "metadata": {
        "id": "U55_xRNfqfLG"
      },
      "source": [
        "Y_true = target2\n",
        "User_ID = biker_data['User_ID'].iloc[14840:]\n",
        "test = test.drop(columns = ['Time_Elapsed_from_Pickup_to_Delivery_in_Min'], axis = 1)"
      ],
      "execution_count": 35,
      "outputs": []
    },
    {
      "cell_type": "code",
      "metadata": {
        "id": "ef0x4lp91-lF"
      },
      "source": [
        "test_scaled = scaler.transform(test)"
      ],
      "execution_count": 36,
      "outputs": []
    },
    {
      "cell_type": "code",
      "metadata": {
        "id": "liy6vlW6jhWV",
        "colab": {
          "base_uri": "https://localhost:8080/"
        },
        "outputId": "506dc1a3-af37-48a6-f0b7-160a411839d3"
      },
      "source": [
        "model = RandomForestRegressor(random_state = 10, max_depth = 5, n_estimators = 1000)\n",
        "model.fit(test_scaled, Y_true)\n",
        "\n",
        "predictions = model.predict(test_scaled)\n",
        "mse = mean_squared_error(Y_true, predictions, squared = True)\n",
        "rmse = mean_squared_error(Y_true, predictions, squared = False)\n",
        "mse, rmse"
      ],
      "execution_count": 37,
      "outputs": [
        {
          "output_type": "execute_result",
          "data": {
            "text/plain": [
              "(0.6748518267961832, 0.8214936559683119)"
            ]
          },
          "metadata": {
            "tags": []
          },
          "execution_count": 37
        }
      ]
    },
    {
      "cell_type": "markdown",
      "metadata": {
        "id": "ni8yBjVUwCoa"
      },
      "source": [
        "From the RMSE of 0.82149 between the prediction output vs the test data, the Random Forest performed well. It is important to note that the RMSE was calculated using the scaled, log-normalised data. It does not represent the error between the actual elapsed time and predicted elapsed time. To better appreciate the outcome of the predictions, I look at the inverse-transformed predicted values and the corresponding test data."
      ]
    },
    {
      "cell_type": "code",
      "metadata": {
        "id": "U_wqa5z0SGSO",
        "colab": {
          "base_uri": "https://localhost:8080/",
          "height": 359
        },
        "outputId": "83165a86-0667-4394-b2e4-26b6662b105e"
      },
      "source": [
        "compare_data = pd.DataFrame({'Prediction': predictions, 'Test Data' : Y_true})\n",
        "compare_data.head(10)"
      ],
      "execution_count": 38,
      "outputs": [
        {
          "output_type": "execute_result",
          "data": {
            "text/html": [
              "<div>\n",
              "<style scoped>\n",
              "    .dataframe tbody tr th:only-of-type {\n",
              "        vertical-align: middle;\n",
              "    }\n",
              "\n",
              "    .dataframe tbody tr th {\n",
              "        vertical-align: top;\n",
              "    }\n",
              "\n",
              "    .dataframe thead th {\n",
              "        text-align: right;\n",
              "    }\n",
              "</style>\n",
              "<table border=\"1\" class=\"dataframe\">\n",
              "  <thead>\n",
              "    <tr style=\"text-align: right;\">\n",
              "      <th></th>\n",
              "      <th>Prediction</th>\n",
              "      <th>Test Data</th>\n",
              "    </tr>\n",
              "  </thead>\n",
              "  <tbody>\n",
              "    <tr>\n",
              "      <th>0</th>\n",
              "      <td>3.38</td>\n",
              "      <td>3.54</td>\n",
              "    </tr>\n",
              "    <tr>\n",
              "      <th>1</th>\n",
              "      <td>3.35</td>\n",
              "      <td>3.35</td>\n",
              "    </tr>\n",
              "    <tr>\n",
              "      <th>2</th>\n",
              "      <td>2.56</td>\n",
              "      <td>-1.47</td>\n",
              "    </tr>\n",
              "    <tr>\n",
              "      <th>3</th>\n",
              "      <td>3.68</td>\n",
              "      <td>4.02</td>\n",
              "    </tr>\n",
              "    <tr>\n",
              "      <th>4</th>\n",
              "      <td>3.10</td>\n",
              "      <td>2.78</td>\n",
              "    </tr>\n",
              "    <tr>\n",
              "      <th>5</th>\n",
              "      <td>3.02</td>\n",
              "      <td>2.53</td>\n",
              "    </tr>\n",
              "    <tr>\n",
              "      <th>6</th>\n",
              "      <td>3.02</td>\n",
              "      <td>2.75</td>\n",
              "    </tr>\n",
              "    <tr>\n",
              "      <th>7</th>\n",
              "      <td>2.22</td>\n",
              "      <td>2.97</td>\n",
              "    </tr>\n",
              "    <tr>\n",
              "      <th>8</th>\n",
              "      <td>2.98</td>\n",
              "      <td>3.60</td>\n",
              "    </tr>\n",
              "    <tr>\n",
              "      <th>9</th>\n",
              "      <td>2.89</td>\n",
              "      <td>3.05</td>\n",
              "    </tr>\n",
              "  </tbody>\n",
              "</table>\n",
              "</div>"
            ],
            "text/plain": [
              "   Prediction  Test Data\n",
              "0        3.38       3.54\n",
              "1        3.35       3.35\n",
              "2        2.56      -1.47\n",
              "3        3.68       4.02\n",
              "4        3.10       2.78\n",
              "5        3.02       2.53\n",
              "6        3.02       2.75\n",
              "7        2.22       2.97\n",
              "8        2.98       3.60\n",
              "9        2.89       3.05"
            ]
          },
          "metadata": {
            "tags": []
          },
          "execution_count": 38
        }
      ]
    },
    {
      "cell_type": "markdown",
      "metadata": {
        "id": "xmghilAiwkGV"
      },
      "source": [
        "From the data frame output above, the difference between the predicted elapsed time and test data is pretty small. Take note that the data is scaled and log normalised. So, I have to inverse transform the log-normalised data to see the actual values. To do that, I apply the numpy exp function to the Prediction and test data columns"
      ]
    },
    {
      "cell_type": "code",
      "metadata": {
        "id": "dH2QCp4eSYvE",
        "colab": {
          "base_uri": "https://localhost:8080/",
          "height": 359
        },
        "outputId": "1187eecf-69b4-42f0-eb61-e1c0c00fab84"
      },
      "source": [
        "target_actual = np.exp(Y_true)\n",
        "target_predicted = np.exp(predictions)\n",
        "\n",
        "diff = abs(target_actual - target_predicted)\n",
        "                                                     \n",
        "submission = pd.DataFrame({'Time_Elapsed_from_Pickup_to_Delivery_in_Min': target_actual, 'Predicted Elapsed Time': target_predicted, 'Difference': diff})\n",
        "submission = submission.astype(float)\n",
        "submission['User_ID'] = User_ID\n",
        "submission = submission[['User_ID', 'Time_Elapsed_from_Pickup_to_Delivery_in_Min', 'Predicted Elapsed Time', 'Difference']]\n",
        "submission.head(10)"
      ],
      "execution_count": 39,
      "outputs": [
        {
          "output_type": "execute_result",
          "data": {
            "text/html": [
              "<div>\n",
              "<style scoped>\n",
              "    .dataframe tbody tr th:only-of-type {\n",
              "        vertical-align: middle;\n",
              "    }\n",
              "\n",
              "    .dataframe tbody tr th {\n",
              "        vertical-align: top;\n",
              "    }\n",
              "\n",
              "    .dataframe thead th {\n",
              "        text-align: right;\n",
              "    }\n",
              "</style>\n",
              "<table border=\"1\" class=\"dataframe\">\n",
              "  <thead>\n",
              "    <tr style=\"text-align: right;\">\n",
              "      <th></th>\n",
              "      <th>User_ID</th>\n",
              "      <th>Time_Elapsed_from_Pickup_to_Delivery_in_Min</th>\n",
              "      <th>Predicted Elapsed Time</th>\n",
              "      <th>Difference</th>\n",
              "    </tr>\n",
              "  </thead>\n",
              "  <tbody>\n",
              "    <tr>\n",
              "      <th>0</th>\n",
              "      <td>UserLogger_6224</td>\n",
              "      <td>34.48</td>\n",
              "      <td>29.42</td>\n",
              "      <td>5.06</td>\n",
              "    </tr>\n",
              "    <tr>\n",
              "      <th>1</th>\n",
              "      <td>UserLogger_16205</td>\n",
              "      <td>28.50</td>\n",
              "      <td>28.40</td>\n",
              "      <td>0.10</td>\n",
              "    </tr>\n",
              "    <tr>\n",
              "      <th>2</th>\n",
              "      <td>UserLogger_17099</td>\n",
              "      <td>0.23</td>\n",
              "      <td>12.87</td>\n",
              "      <td>12.64</td>\n",
              "    </tr>\n",
              "    <tr>\n",
              "      <th>3</th>\n",
              "      <td>UserLogger_9892</td>\n",
              "      <td>55.58</td>\n",
              "      <td>39.77</td>\n",
              "      <td>15.81</td>\n",
              "    </tr>\n",
              "    <tr>\n",
              "      <th>4</th>\n",
              "      <td>UserLogger_8487</td>\n",
              "      <td>16.10</td>\n",
              "      <td>22.26</td>\n",
              "      <td>6.16</td>\n",
              "    </tr>\n",
              "    <tr>\n",
              "      <th>5</th>\n",
              "      <td>UserLogger_18433</td>\n",
              "      <td>12.54</td>\n",
              "      <td>20.51</td>\n",
              "      <td>7.97</td>\n",
              "    </tr>\n",
              "    <tr>\n",
              "      <th>6</th>\n",
              "      <td>UserLogger_7191</td>\n",
              "      <td>15.60</td>\n",
              "      <td>20.49</td>\n",
              "      <td>4.89</td>\n",
              "    </tr>\n",
              "    <tr>\n",
              "      <th>7</th>\n",
              "      <td>UserLogger_6385</td>\n",
              "      <td>19.57</td>\n",
              "      <td>9.16</td>\n",
              "      <td>10.41</td>\n",
              "    </tr>\n",
              "    <tr>\n",
              "      <th>8</th>\n",
              "      <td>UserLogger_17873</td>\n",
              "      <td>36.60</td>\n",
              "      <td>19.78</td>\n",
              "      <td>16.82</td>\n",
              "    </tr>\n",
              "    <tr>\n",
              "      <th>9</th>\n",
              "      <td>UserLogger_14604</td>\n",
              "      <td>21.12</td>\n",
              "      <td>18.00</td>\n",
              "      <td>3.12</td>\n",
              "    </tr>\n",
              "  </tbody>\n",
              "</table>\n",
              "</div>"
            ],
            "text/plain": [
              "            User_ID  Time_Elapsed_from_Pickup_to_Delivery_in_Min  \\\n",
              "0   UserLogger_6224                                        34.48   \n",
              "1  UserLogger_16205                                        28.50   \n",
              "2  UserLogger_17099                                         0.23   \n",
              "3   UserLogger_9892                                        55.58   \n",
              "4   UserLogger_8487                                        16.10   \n",
              "5  UserLogger_18433                                        12.54   \n",
              "6   UserLogger_7191                                        15.60   \n",
              "7   UserLogger_6385                                        19.57   \n",
              "8  UserLogger_17873                                        36.60   \n",
              "9  UserLogger_14604                                        21.12   \n",
              "\n",
              "   Predicted Elapsed Time  Difference  \n",
              "0                   29.42        5.06  \n",
              "1                   28.40        0.10  \n",
              "2                   12.87       12.64  \n",
              "3                   39.77       15.81  \n",
              "4                   22.26        6.16  \n",
              "5                   20.51        7.97  \n",
              "6                   20.49        4.89  \n",
              "7                    9.16       10.41  \n",
              "8                   19.78       16.82  \n",
              "9                   18.00        3.12  "
            ]
          },
          "metadata": {
            "tags": []
          },
          "execution_count": 39
        }
      ]
    },
    {
      "cell_type": "code",
      "metadata": {
        "id": "e4YVcBys5AzV",
        "colab": {
          "base_uri": "https://localhost:8080/"
        },
        "outputId": "701da4de-9290-4910-e962-b7487b2fb086"
      },
      "source": [
        "submission.info()"
      ],
      "execution_count": 40,
      "outputs": [
        {
          "output_type": "stream",
          "text": [
            "<class 'pandas.core.frame.DataFrame'>\n",
            "RangeIndex: 6361 entries, 0 to 6360\n",
            "Data columns (total 4 columns):\n",
            " #   Column                                       Non-Null Count  Dtype  \n",
            "---  ------                                       --------------  -----  \n",
            " 0   User_ID                                      6361 non-null   object \n",
            " 1   Time_Elapsed_from_Pickup_to_Delivery_in_Min  6361 non-null   float64\n",
            " 2   Predicted Elapsed Time                       6361 non-null   float64\n",
            " 3   Difference                                   6361 non-null   float64\n",
            "dtypes: float64(3), object(1)\n",
            "memory usage: 198.9+ KB\n"
          ],
          "name": "stdout"
        }
      ]
    },
    {
      "cell_type": "code",
      "metadata": {
        "id": "EjI-KpA4ZKw9"
      },
      "source": [
        "submission.to_csv('/content/drive/My Drive/Data and Decisioning Job Take Home Challenge/submission.csv')"
      ],
      "execution_count": 41,
      "outputs": []
    },
    {
      "cell_type": "code",
      "metadata": {
        "id": "bJDBqTcQamQp",
        "colab": {
          "base_uri": "https://localhost:8080/",
          "height": 359
        },
        "outputId": "6bae8ed9-09ce-4699-a099-32f968cb75db"
      },
      "source": [
        "submission.head(10)"
      ],
      "execution_count": 42,
      "outputs": [
        {
          "output_type": "execute_result",
          "data": {
            "text/html": [
              "<div>\n",
              "<style scoped>\n",
              "    .dataframe tbody tr th:only-of-type {\n",
              "        vertical-align: middle;\n",
              "    }\n",
              "\n",
              "    .dataframe tbody tr th {\n",
              "        vertical-align: top;\n",
              "    }\n",
              "\n",
              "    .dataframe thead th {\n",
              "        text-align: right;\n",
              "    }\n",
              "</style>\n",
              "<table border=\"1\" class=\"dataframe\">\n",
              "  <thead>\n",
              "    <tr style=\"text-align: right;\">\n",
              "      <th></th>\n",
              "      <th>User_ID</th>\n",
              "      <th>Time_Elapsed_from_Pickup_to_Delivery_in_Min</th>\n",
              "      <th>Predicted Elapsed Time</th>\n",
              "      <th>Difference</th>\n",
              "    </tr>\n",
              "  </thead>\n",
              "  <tbody>\n",
              "    <tr>\n",
              "      <th>0</th>\n",
              "      <td>UserLogger_6224</td>\n",
              "      <td>34.48</td>\n",
              "      <td>29.42</td>\n",
              "      <td>5.06</td>\n",
              "    </tr>\n",
              "    <tr>\n",
              "      <th>1</th>\n",
              "      <td>UserLogger_16205</td>\n",
              "      <td>28.50</td>\n",
              "      <td>28.40</td>\n",
              "      <td>0.10</td>\n",
              "    </tr>\n",
              "    <tr>\n",
              "      <th>2</th>\n",
              "      <td>UserLogger_17099</td>\n",
              "      <td>0.23</td>\n",
              "      <td>12.87</td>\n",
              "      <td>12.64</td>\n",
              "    </tr>\n",
              "    <tr>\n",
              "      <th>3</th>\n",
              "      <td>UserLogger_9892</td>\n",
              "      <td>55.58</td>\n",
              "      <td>39.77</td>\n",
              "      <td>15.81</td>\n",
              "    </tr>\n",
              "    <tr>\n",
              "      <th>4</th>\n",
              "      <td>UserLogger_8487</td>\n",
              "      <td>16.10</td>\n",
              "      <td>22.26</td>\n",
              "      <td>6.16</td>\n",
              "    </tr>\n",
              "    <tr>\n",
              "      <th>5</th>\n",
              "      <td>UserLogger_18433</td>\n",
              "      <td>12.54</td>\n",
              "      <td>20.51</td>\n",
              "      <td>7.97</td>\n",
              "    </tr>\n",
              "    <tr>\n",
              "      <th>6</th>\n",
              "      <td>UserLogger_7191</td>\n",
              "      <td>15.60</td>\n",
              "      <td>20.49</td>\n",
              "      <td>4.89</td>\n",
              "    </tr>\n",
              "    <tr>\n",
              "      <th>7</th>\n",
              "      <td>UserLogger_6385</td>\n",
              "      <td>19.57</td>\n",
              "      <td>9.16</td>\n",
              "      <td>10.41</td>\n",
              "    </tr>\n",
              "    <tr>\n",
              "      <th>8</th>\n",
              "      <td>UserLogger_17873</td>\n",
              "      <td>36.60</td>\n",
              "      <td>19.78</td>\n",
              "      <td>16.82</td>\n",
              "    </tr>\n",
              "    <tr>\n",
              "      <th>9</th>\n",
              "      <td>UserLogger_14604</td>\n",
              "      <td>21.12</td>\n",
              "      <td>18.00</td>\n",
              "      <td>3.12</td>\n",
              "    </tr>\n",
              "  </tbody>\n",
              "</table>\n",
              "</div>"
            ],
            "text/plain": [
              "            User_ID  Time_Elapsed_from_Pickup_to_Delivery_in_Min  \\\n",
              "0   UserLogger_6224                                        34.48   \n",
              "1  UserLogger_16205                                        28.50   \n",
              "2  UserLogger_17099                                         0.23   \n",
              "3   UserLogger_9892                                        55.58   \n",
              "4   UserLogger_8487                                        16.10   \n",
              "5  UserLogger_18433                                        12.54   \n",
              "6   UserLogger_7191                                        15.60   \n",
              "7   UserLogger_6385                                        19.57   \n",
              "8  UserLogger_17873                                        36.60   \n",
              "9  UserLogger_14604                                        21.12   \n",
              "\n",
              "   Predicted Elapsed Time  Difference  \n",
              "0                   29.42        5.06  \n",
              "1                   28.40        0.10  \n",
              "2                   12.87       12.64  \n",
              "3                   39.77       15.81  \n",
              "4                   22.26        6.16  \n",
              "5                   20.51        7.97  \n",
              "6                   20.49        4.89  \n",
              "7                    9.16       10.41  \n",
              "8                   19.78       16.82  \n",
              "9                   18.00        3.12  "
            ]
          },
          "metadata": {
            "tags": []
          },
          "execution_count": 42
        }
      ]
    }
  ]
}